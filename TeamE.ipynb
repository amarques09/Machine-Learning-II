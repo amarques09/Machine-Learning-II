{
 "cells": [
  {
   "cell_type": "code",
   "execution_count": 627,
   "metadata": {},
   "outputs": [],
   "source": [
    "import pandas as pd\n",
    "import matplotlib.pyplot as plt\n",
    "import seaborn as sns\n",
    "import numpy as np\n",
    "from scipy.stats import norm\n",
    "from sklearn.preprocessing import StandardScaler\n",
    "from scipy import stats\n",
    "import warnings\n",
    "import sklearn.linear_model as linear_model\n",
    "from sklearn.model_selection import KFold\n",
    "from IPython.display import HTML, display\n",
    "from sklearn.manifold import TSNE\n",
    "from sklearn.cluster import KMeans\n",
    "from sklearn.decomposition import PCA\n",
    "from IPython.display import HTML, display, display_html\n",
    "import numbers\n",
    "warnings.filterwarnings('ignore')\n",
    "%matplotlib inline\n",
    "from sklearn.datasets import load_boston\n",
    "import pandas as pd\n",
    "import numpy as n\n",
    "import matplotlib\n",
    "import matplotlib.pyplot as plt\n",
    "import seaborn as sns\n",
    "import statsmodels.api as sm\n",
    "from sklearn.model_selection import train_test_split\n",
    "from sklearn.linear_model import LinearRegression\n",
    "from sklearn.feature_selection import RFE\n",
    "from sklearn.linear_model import RidgeCV, LassoCV, Ridge, Lasso\n",
    "import pandas_profiling\n",
    "#pip instal dfply\n",
    "#import dfply\n",
    "import re\n",
    "from sklearn.preprocessing import MinMaxScaler\n",
    "from sklearn.preprocessing import minmax_scale\n",
    "from sklearn.preprocessing import MaxAbsScaler\n",
    "from sklearn.preprocessing import StandardScaler\n",
    "from sklearn.preprocessing import RobustScaler\n",
    "from sklearn.preprocessing import Normalizer\n",
    "from sklearn.preprocessing import QuantileTransformer\n",
    "from sklearn.preprocessing import PowerTransformer\n",
    "import seaborn as sns\n",
    "import statsmodels.api as sm\n",
    "\n",
    "import warnings\n",
    "\n",
    "from sklearn.preprocessing import LabelEncoder, PolynomialFeatures, MinMaxScaler, scale\n",
    "from sklearn.model_selection import train_test_split, RandomizedSearchCV\n",
    "from sklearn.linear_model import LogisticRegression\n",
    "from sklearn.ensemble import RandomForestClassifier\n",
    "from sklearn.model_selection import cross_val_score, cross_validate\n",
    "\n",
    "from scipy.stats import skew, boxcox_normmax\n",
    "from scipy.special import boxcox1p\n",
    "\n",
    "from functools import reduce\n",
    "\n",
    "warnings.simplefilter(action='ignore')\n",
    "\n",
    "import math as math\n",
    "from sklearn.tree import DecisionTreeClassifier\n",
    "from scipy.stats import randint\n",
    "from sklearn.model_selection import RandomizedSearchCV\n",
    "from sklearn import datasets\n",
    "from sklearn.ensemble import RandomForestClassifier\n",
    "from scipy.stats import uniform, truncnorm, randint"
   ]
  },
  {
   "cell_type": "code",
   "execution_count": 503,
   "metadata": {},
   "outputs": [],
   "source": [
    "test = pd.read_csv(\"/Users/utkarsh/Desktop/ML_GRP/Test.csv\")\n",
    "train_labels = pd.read_csv(\"/Users/utkarsh/Desktop/ML_GRP/Train_labels.csv\")\n",
    "train_values = pd.read_csv(\"/Users/utkarsh/Desktop/ML_GRP/Train_values.csv\")\n",
    "var_response = 'status_group'"
   ]
  },
  {
   "cell_type": "code",
   "execution_count": 504,
   "metadata": {},
   "outputs": [
    {
     "data": {
      "text/html": [
       "<div>\n",
       "<style scoped>\n",
       "    .dataframe tbody tr th:only-of-type {\n",
       "        vertical-align: middle;\n",
       "    }\n",
       "\n",
       "    .dataframe tbody tr th {\n",
       "        vertical-align: top;\n",
       "    }\n",
       "\n",
       "    .dataframe thead th {\n",
       "        text-align: right;\n",
       "    }\n",
       "</style>\n",
       "<table border=\"1\" class=\"dataframe\">\n",
       "  <thead>\n",
       "    <tr style=\"text-align: right;\">\n",
       "      <th></th>\n",
       "      <th>id</th>\n",
       "      <th>amount_tsh</th>\n",
       "      <th>date_recorded</th>\n",
       "      <th>funder</th>\n",
       "      <th>gps_height</th>\n",
       "      <th>installer</th>\n",
       "      <th>longitude</th>\n",
       "      <th>latitude</th>\n",
       "      <th>wpt_name</th>\n",
       "      <th>num_private</th>\n",
       "      <th>...</th>\n",
       "      <th>payment_type</th>\n",
       "      <th>water_quality</th>\n",
       "      <th>quality_group</th>\n",
       "      <th>quantity</th>\n",
       "      <th>quantity_group</th>\n",
       "      <th>source</th>\n",
       "      <th>source_type</th>\n",
       "      <th>source_class</th>\n",
       "      <th>waterpoint_type</th>\n",
       "      <th>waterpoint_type_group</th>\n",
       "    </tr>\n",
       "  </thead>\n",
       "  <tbody>\n",
       "    <tr>\n",
       "      <th>0</th>\n",
       "      <td>50785</td>\n",
       "      <td>0.0</td>\n",
       "      <td>2013-02-04</td>\n",
       "      <td>Dmdd</td>\n",
       "      <td>1996</td>\n",
       "      <td>DMDD</td>\n",
       "      <td>35.290799</td>\n",
       "      <td>-4.059696</td>\n",
       "      <td>Dinamu Secondary School</td>\n",
       "      <td>0</td>\n",
       "      <td>...</td>\n",
       "      <td>never pay</td>\n",
       "      <td>soft</td>\n",
       "      <td>good</td>\n",
       "      <td>seasonal</td>\n",
       "      <td>seasonal</td>\n",
       "      <td>rainwater harvesting</td>\n",
       "      <td>rainwater harvesting</td>\n",
       "      <td>surface</td>\n",
       "      <td>other</td>\n",
       "      <td>other</td>\n",
       "    </tr>\n",
       "    <tr>\n",
       "      <th>1</th>\n",
       "      <td>51630</td>\n",
       "      <td>0.0</td>\n",
       "      <td>2013-02-04</td>\n",
       "      <td>Government Of Tanzania</td>\n",
       "      <td>1569</td>\n",
       "      <td>DWE</td>\n",
       "      <td>36.656709</td>\n",
       "      <td>-3.309214</td>\n",
       "      <td>Kimnyak</td>\n",
       "      <td>0</td>\n",
       "      <td>...</td>\n",
       "      <td>never pay</td>\n",
       "      <td>soft</td>\n",
       "      <td>good</td>\n",
       "      <td>insufficient</td>\n",
       "      <td>insufficient</td>\n",
       "      <td>spring</td>\n",
       "      <td>spring</td>\n",
       "      <td>groundwater</td>\n",
       "      <td>communal standpipe</td>\n",
       "      <td>communal standpipe</td>\n",
       "    </tr>\n",
       "    <tr>\n",
       "      <th>2</th>\n",
       "      <td>17168</td>\n",
       "      <td>0.0</td>\n",
       "      <td>2013-02-01</td>\n",
       "      <td>NaN</td>\n",
       "      <td>1567</td>\n",
       "      <td>NaN</td>\n",
       "      <td>34.767863</td>\n",
       "      <td>-5.004344</td>\n",
       "      <td>Puma Secondary</td>\n",
       "      <td>0</td>\n",
       "      <td>...</td>\n",
       "      <td>never pay</td>\n",
       "      <td>soft</td>\n",
       "      <td>good</td>\n",
       "      <td>insufficient</td>\n",
       "      <td>insufficient</td>\n",
       "      <td>rainwater harvesting</td>\n",
       "      <td>rainwater harvesting</td>\n",
       "      <td>surface</td>\n",
       "      <td>other</td>\n",
       "      <td>other</td>\n",
       "    </tr>\n",
       "    <tr>\n",
       "      <th>3</th>\n",
       "      <td>45559</td>\n",
       "      <td>0.0</td>\n",
       "      <td>2013-01-22</td>\n",
       "      <td>Finn Water</td>\n",
       "      <td>267</td>\n",
       "      <td>FINN WATER</td>\n",
       "      <td>38.058046</td>\n",
       "      <td>-9.418672</td>\n",
       "      <td>Kwa Mzee Pange</td>\n",
       "      <td>0</td>\n",
       "      <td>...</td>\n",
       "      <td>unknown</td>\n",
       "      <td>soft</td>\n",
       "      <td>good</td>\n",
       "      <td>dry</td>\n",
       "      <td>dry</td>\n",
       "      <td>shallow well</td>\n",
       "      <td>shallow well</td>\n",
       "      <td>groundwater</td>\n",
       "      <td>other</td>\n",
       "      <td>other</td>\n",
       "    </tr>\n",
       "    <tr>\n",
       "      <th>4</th>\n",
       "      <td>49871</td>\n",
       "      <td>500.0</td>\n",
       "      <td>2013-03-27</td>\n",
       "      <td>Bruder</td>\n",
       "      <td>1260</td>\n",
       "      <td>BRUDER</td>\n",
       "      <td>35.006123</td>\n",
       "      <td>-10.950412</td>\n",
       "      <td>Kwa Mzee Turuka</td>\n",
       "      <td>0</td>\n",
       "      <td>...</td>\n",
       "      <td>monthly</td>\n",
       "      <td>soft</td>\n",
       "      <td>good</td>\n",
       "      <td>enough</td>\n",
       "      <td>enough</td>\n",
       "      <td>spring</td>\n",
       "      <td>spring</td>\n",
       "      <td>groundwater</td>\n",
       "      <td>communal standpipe</td>\n",
       "      <td>communal standpipe</td>\n",
       "    </tr>\n",
       "  </tbody>\n",
       "</table>\n",
       "<p>5 rows × 40 columns</p>\n",
       "</div>"
      ],
      "text/plain": [
       "      id  amount_tsh date_recorded                  funder  gps_height  \\\n",
       "0  50785         0.0    2013-02-04                    Dmdd        1996   \n",
       "1  51630         0.0    2013-02-04  Government Of Tanzania        1569   \n",
       "2  17168         0.0    2013-02-01                     NaN        1567   \n",
       "3  45559         0.0    2013-01-22              Finn Water         267   \n",
       "4  49871       500.0    2013-03-27                  Bruder        1260   \n",
       "\n",
       "    installer  longitude   latitude                 wpt_name  num_private  \\\n",
       "0        DMDD  35.290799  -4.059696  Dinamu Secondary School            0   \n",
       "1         DWE  36.656709  -3.309214                  Kimnyak            0   \n",
       "2         NaN  34.767863  -5.004344           Puma Secondary            0   \n",
       "3  FINN WATER  38.058046  -9.418672           Kwa Mzee Pange            0   \n",
       "4      BRUDER  35.006123 -10.950412          Kwa Mzee Turuka            0   \n",
       "\n",
       "   ... payment_type water_quality quality_group      quantity  quantity_group  \\\n",
       "0  ...    never pay          soft          good      seasonal        seasonal   \n",
       "1  ...    never pay          soft          good  insufficient    insufficient   \n",
       "2  ...    never pay          soft          good  insufficient    insufficient   \n",
       "3  ...      unknown          soft          good           dry             dry   \n",
       "4  ...      monthly          soft          good        enough          enough   \n",
       "\n",
       "                 source           source_type  source_class  \\\n",
       "0  rainwater harvesting  rainwater harvesting       surface   \n",
       "1                spring                spring   groundwater   \n",
       "2  rainwater harvesting  rainwater harvesting       surface   \n",
       "3          shallow well          shallow well   groundwater   \n",
       "4                spring                spring   groundwater   \n",
       "\n",
       "      waterpoint_type waterpoint_type_group  \n",
       "0               other                 other  \n",
       "1  communal standpipe    communal standpipe  \n",
       "2               other                 other  \n",
       "3               other                 other  \n",
       "4  communal standpipe    communal standpipe  \n",
       "\n",
       "[5 rows x 40 columns]"
      ]
     },
     "execution_count": 504,
     "metadata": {},
     "output_type": "execute_result"
    }
   ],
   "source": [
    "test.head()"
   ]
  },
  {
   "cell_type": "code",
   "execution_count": 505,
   "metadata": {},
   "outputs": [
    {
     "data": {
      "text/html": [
       "<div>\n",
       "<style scoped>\n",
       "    .dataframe tbody tr th:only-of-type {\n",
       "        vertical-align: middle;\n",
       "    }\n",
       "\n",
       "    .dataframe tbody tr th {\n",
       "        vertical-align: top;\n",
       "    }\n",
       "\n",
       "    .dataframe thead th {\n",
       "        text-align: right;\n",
       "    }\n",
       "</style>\n",
       "<table border=\"1\" class=\"dataframe\">\n",
       "  <thead>\n",
       "    <tr style=\"text-align: right;\">\n",
       "      <th></th>\n",
       "      <th>id</th>\n",
       "      <th>status_group</th>\n",
       "    </tr>\n",
       "  </thead>\n",
       "  <tbody>\n",
       "    <tr>\n",
       "      <th>59395</th>\n",
       "      <td>60739</td>\n",
       "      <td>functional</td>\n",
       "    </tr>\n",
       "    <tr>\n",
       "      <th>59396</th>\n",
       "      <td>27263</td>\n",
       "      <td>functional</td>\n",
       "    </tr>\n",
       "    <tr>\n",
       "      <th>59397</th>\n",
       "      <td>37057</td>\n",
       "      <td>functional</td>\n",
       "    </tr>\n",
       "    <tr>\n",
       "      <th>59398</th>\n",
       "      <td>31282</td>\n",
       "      <td>functional</td>\n",
       "    </tr>\n",
       "    <tr>\n",
       "      <th>59399</th>\n",
       "      <td>26348</td>\n",
       "      <td>functional</td>\n",
       "    </tr>\n",
       "  </tbody>\n",
       "</table>\n",
       "</div>"
      ],
      "text/plain": [
       "          id status_group\n",
       "59395  60739   functional\n",
       "59396  27263   functional\n",
       "59397  37057   functional\n",
       "59398  31282   functional\n",
       "59399  26348   functional"
      ]
     },
     "execution_count": 505,
     "metadata": {},
     "output_type": "execute_result"
    }
   ],
   "source": [
    "train_labels.head()\n",
    "train_labels.tail()"
   ]
  },
  {
   "cell_type": "code",
   "execution_count": 506,
   "metadata": {},
   "outputs": [
    {
     "data": {
      "text/html": [
       "<div>\n",
       "<style scoped>\n",
       "    .dataframe tbody tr th:only-of-type {\n",
       "        vertical-align: middle;\n",
       "    }\n",
       "\n",
       "    .dataframe tbody tr th {\n",
       "        vertical-align: top;\n",
       "    }\n",
       "\n",
       "    .dataframe thead th {\n",
       "        text-align: right;\n",
       "    }\n",
       "</style>\n",
       "<table border=\"1\" class=\"dataframe\">\n",
       "  <thead>\n",
       "    <tr style=\"text-align: right;\">\n",
       "      <th></th>\n",
       "      <th>id</th>\n",
       "      <th>amount_tsh</th>\n",
       "      <th>date_recorded</th>\n",
       "      <th>funder</th>\n",
       "      <th>gps_height</th>\n",
       "      <th>installer</th>\n",
       "      <th>longitude</th>\n",
       "      <th>latitude</th>\n",
       "      <th>wpt_name</th>\n",
       "      <th>num_private</th>\n",
       "      <th>...</th>\n",
       "      <th>payment_type</th>\n",
       "      <th>water_quality</th>\n",
       "      <th>quality_group</th>\n",
       "      <th>quantity</th>\n",
       "      <th>quantity_group</th>\n",
       "      <th>source</th>\n",
       "      <th>source_type</th>\n",
       "      <th>source_class</th>\n",
       "      <th>waterpoint_type</th>\n",
       "      <th>waterpoint_type_group</th>\n",
       "    </tr>\n",
       "  </thead>\n",
       "  <tbody>\n",
       "    <tr>\n",
       "      <th>59395</th>\n",
       "      <td>60739</td>\n",
       "      <td>10.0</td>\n",
       "      <td>2013-05-03</td>\n",
       "      <td>Germany Republi</td>\n",
       "      <td>1210</td>\n",
       "      <td>CES</td>\n",
       "      <td>37.169807</td>\n",
       "      <td>-3.253847</td>\n",
       "      <td>Area Three Namba 27</td>\n",
       "      <td>0</td>\n",
       "      <td>...</td>\n",
       "      <td>per bucket</td>\n",
       "      <td>soft</td>\n",
       "      <td>good</td>\n",
       "      <td>enough</td>\n",
       "      <td>enough</td>\n",
       "      <td>spring</td>\n",
       "      <td>spring</td>\n",
       "      <td>groundwater</td>\n",
       "      <td>communal standpipe</td>\n",
       "      <td>communal standpipe</td>\n",
       "    </tr>\n",
       "    <tr>\n",
       "      <th>59396</th>\n",
       "      <td>27263</td>\n",
       "      <td>4700.0</td>\n",
       "      <td>2011-05-07</td>\n",
       "      <td>Cefa-njombe</td>\n",
       "      <td>1212</td>\n",
       "      <td>Cefa</td>\n",
       "      <td>35.249991</td>\n",
       "      <td>-9.070629</td>\n",
       "      <td>Kwa Yahona Kuvala</td>\n",
       "      <td>0</td>\n",
       "      <td>...</td>\n",
       "      <td>annually</td>\n",
       "      <td>soft</td>\n",
       "      <td>good</td>\n",
       "      <td>enough</td>\n",
       "      <td>enough</td>\n",
       "      <td>river</td>\n",
       "      <td>river/lake</td>\n",
       "      <td>surface</td>\n",
       "      <td>communal standpipe</td>\n",
       "      <td>communal standpipe</td>\n",
       "    </tr>\n",
       "    <tr>\n",
       "      <th>59397</th>\n",
       "      <td>37057</td>\n",
       "      <td>0.0</td>\n",
       "      <td>2011-04-11</td>\n",
       "      <td>NaN</td>\n",
       "      <td>0</td>\n",
       "      <td>NaN</td>\n",
       "      <td>34.017087</td>\n",
       "      <td>-8.750434</td>\n",
       "      <td>Mashine</td>\n",
       "      <td>0</td>\n",
       "      <td>...</td>\n",
       "      <td>monthly</td>\n",
       "      <td>fluoride</td>\n",
       "      <td>fluoride</td>\n",
       "      <td>enough</td>\n",
       "      <td>enough</td>\n",
       "      <td>machine dbh</td>\n",
       "      <td>borehole</td>\n",
       "      <td>groundwater</td>\n",
       "      <td>hand pump</td>\n",
       "      <td>hand pump</td>\n",
       "    </tr>\n",
       "    <tr>\n",
       "      <th>59398</th>\n",
       "      <td>31282</td>\n",
       "      <td>0.0</td>\n",
       "      <td>2011-03-08</td>\n",
       "      <td>Malec</td>\n",
       "      <td>0</td>\n",
       "      <td>Musa</td>\n",
       "      <td>35.861315</td>\n",
       "      <td>-6.378573</td>\n",
       "      <td>Mshoro</td>\n",
       "      <td>0</td>\n",
       "      <td>...</td>\n",
       "      <td>never pay</td>\n",
       "      <td>soft</td>\n",
       "      <td>good</td>\n",
       "      <td>insufficient</td>\n",
       "      <td>insufficient</td>\n",
       "      <td>shallow well</td>\n",
       "      <td>shallow well</td>\n",
       "      <td>groundwater</td>\n",
       "      <td>hand pump</td>\n",
       "      <td>hand pump</td>\n",
       "    </tr>\n",
       "    <tr>\n",
       "      <th>59399</th>\n",
       "      <td>26348</td>\n",
       "      <td>0.0</td>\n",
       "      <td>2011-03-23</td>\n",
       "      <td>World Bank</td>\n",
       "      <td>191</td>\n",
       "      <td>World</td>\n",
       "      <td>38.104048</td>\n",
       "      <td>-6.747464</td>\n",
       "      <td>Kwa Mzee Lugawa</td>\n",
       "      <td>0</td>\n",
       "      <td>...</td>\n",
       "      <td>on failure</td>\n",
       "      <td>salty</td>\n",
       "      <td>salty</td>\n",
       "      <td>enough</td>\n",
       "      <td>enough</td>\n",
       "      <td>shallow well</td>\n",
       "      <td>shallow well</td>\n",
       "      <td>groundwater</td>\n",
       "      <td>hand pump</td>\n",
       "      <td>hand pump</td>\n",
       "    </tr>\n",
       "  </tbody>\n",
       "</table>\n",
       "<p>5 rows × 40 columns</p>\n",
       "</div>"
      ],
      "text/plain": [
       "          id  amount_tsh date_recorded           funder  gps_height installer  \\\n",
       "59395  60739        10.0    2013-05-03  Germany Republi        1210       CES   \n",
       "59396  27263      4700.0    2011-05-07      Cefa-njombe        1212      Cefa   \n",
       "59397  37057         0.0    2011-04-11              NaN           0       NaN   \n",
       "59398  31282         0.0    2011-03-08            Malec           0      Musa   \n",
       "59399  26348         0.0    2011-03-23       World Bank         191     World   \n",
       "\n",
       "       longitude  latitude             wpt_name  num_private  ...  \\\n",
       "59395  37.169807 -3.253847  Area Three Namba 27            0  ...   \n",
       "59396  35.249991 -9.070629    Kwa Yahona Kuvala            0  ...   \n",
       "59397  34.017087 -8.750434              Mashine            0  ...   \n",
       "59398  35.861315 -6.378573               Mshoro            0  ...   \n",
       "59399  38.104048 -6.747464      Kwa Mzee Lugawa            0  ...   \n",
       "\n",
       "      payment_type water_quality quality_group      quantity  quantity_group  \\\n",
       "59395   per bucket          soft          good        enough          enough   \n",
       "59396     annually          soft          good        enough          enough   \n",
       "59397      monthly      fluoride      fluoride        enough          enough   \n",
       "59398    never pay          soft          good  insufficient    insufficient   \n",
       "59399   on failure         salty         salty        enough          enough   \n",
       "\n",
       "             source   source_type  source_class     waterpoint_type  \\\n",
       "59395        spring        spring   groundwater  communal standpipe   \n",
       "59396         river    river/lake       surface  communal standpipe   \n",
       "59397   machine dbh      borehole   groundwater           hand pump   \n",
       "59398  shallow well  shallow well   groundwater           hand pump   \n",
       "59399  shallow well  shallow well   groundwater           hand pump   \n",
       "\n",
       "      waterpoint_type_group  \n",
       "59395    communal standpipe  \n",
       "59396    communal standpipe  \n",
       "59397             hand pump  \n",
       "59398             hand pump  \n",
       "59399             hand pump  \n",
       "\n",
       "[5 rows x 40 columns]"
      ]
     },
     "execution_count": 506,
     "metadata": {},
     "output_type": "execute_result"
    }
   ],
   "source": [
    "train_values.head()\n",
    "train_values.tail()"
   ]
  },
  {
   "cell_type": "code",
   "execution_count": 507,
   "metadata": {},
   "outputs": [],
   "source": [
    "##### COMMENTING AS JOINING BOTH TRAIN AND TEST \n",
    "\n",
    "\n",
    "#train_values[\"status_group\"] = train_labels[\"status_group\"]"
   ]
  },
  {
   "cell_type": "code",
   "execution_count": 508,
   "metadata": {},
   "outputs": [],
   "source": [
    "# Joining our train with the test\n",
    "data = train_values.append(test)"
   ]
  },
  {
   "cell_type": "code",
   "execution_count": 509,
   "metadata": {},
   "outputs": [
    {
     "name": "stdout",
     "output_type": "stream",
     "text": [
      "<class 'pandas.core.frame.DataFrame'>\n",
      "Int64Index: 74250 entries, 0 to 14849\n",
      "Data columns (total 40 columns):\n",
      "id                       74250 non-null int64\n",
      "amount_tsh               74250 non-null float64\n",
      "date_recorded            74250 non-null object\n",
      "funder                   69746 non-null object\n",
      "gps_height               74250 non-null int64\n",
      "installer                69718 non-null object\n",
      "longitude                74250 non-null float64\n",
      "latitude                 74250 non-null float64\n",
      "wpt_name                 74250 non-null object\n",
      "num_private              74250 non-null int64\n",
      "basin                    74250 non-null object\n",
      "subvillage               73780 non-null object\n",
      "region                   74250 non-null object\n",
      "region_code              74250 non-null int64\n",
      "district_code            74250 non-null int64\n",
      "lga                      74250 non-null object\n",
      "ward                     74250 non-null object\n",
      "population               74250 non-null int64\n",
      "public_meeting           70095 non-null object\n",
      "recorded_by              74250 non-null object\n",
      "scheme_management        69404 non-null object\n",
      "scheme_name              38992 non-null object\n",
      "permit                   70457 non-null object\n",
      "construction_year        74250 non-null int64\n",
      "extraction_type          74250 non-null object\n",
      "extraction_type_group    74250 non-null object\n",
      "extraction_type_class    74250 non-null object\n",
      "management               74250 non-null object\n",
      "management_group         74250 non-null object\n",
      "payment                  74250 non-null object\n",
      "payment_type             74250 non-null object\n",
      "water_quality            74250 non-null object\n",
      "quality_group            74250 non-null object\n",
      "quantity                 74250 non-null object\n",
      "quantity_group           74250 non-null object\n",
      "source                   74250 non-null object\n",
      "source_type              74250 non-null object\n",
      "source_class             74250 non-null object\n",
      "waterpoint_type          74250 non-null object\n",
      "waterpoint_type_group    74250 non-null object\n",
      "dtypes: float64(3), int64(7), object(30)\n",
      "memory usage: 23.2+ MB\n"
     ]
    }
   ],
   "source": [
    "data.info()"
   ]
  },
  {
   "cell_type": "markdown",
   "metadata": {},
   "source": [
    "# EDA"
   ]
  },
  {
   "cell_type": "code",
   "execution_count": 510,
   "metadata": {},
   "outputs": [],
   "source": [
    "#train_values.profile_report(style={'full_width':True})"
   ]
  },
  {
   "cell_type": "markdown",
   "metadata": {},
   "source": [
    "plt.figure(figsize=(24, 9))\n",
    "\n",
    "sns.countplot(data=train,x='water_quality',hue='status_group')\n",
    "train.groupby('water_quality')['status_group'].value_counts() / train.groupby('water_quality')['status_group'].count()"
   ]
  },
  {
   "cell_type": "markdown",
   "metadata": {},
   "source": [
    "plt.figure(figsize=(24, 9))\n",
    "\n",
    "sns.countplot(data=train,x='ward',hue='status_group')\n",
    "train.groupby('ward')['status_group'].value_counts() / train.groupby('ward')['status_group'].count()"
   ]
  },
  {
   "cell_type": "markdown",
   "metadata": {},
   "source": [
    "plt.figure(figsize=(24, 9))\n",
    "\n",
    "sns.countplot(data=train,x='waterpoint_type_group',hue='status_group')\n",
    "train.groupby('waterpoint_type_group')['status_group'].value_counts() / train.groupby('waterpoint_type_group')['status_group'].count()"
   ]
  },
  {
   "cell_type": "markdown",
   "metadata": {},
   "source": [
    "plt.figure(figsize=(24, 9))\n",
    "\n",
    "sns.countplot(data=train,x='waterpoint_type',hue='status_group')\n",
    "train.groupby('waterpoint_type')['status_group'].value_counts() / train.groupby('waterpoint_type')['status_group'].count()"
   ]
  },
  {
   "cell_type": "markdown",
   "metadata": {},
   "source": [
    "plt.figure(figsize=(24, 9))\n",
    "\n",
    "sns.countplot(data=train,x='source_class',hue='status_group')\n",
    "train.groupby('source_class')['status_group'].value_counts() / train.groupby('source_class')['status_group'].count()"
   ]
  },
  {
   "cell_type": "markdown",
   "metadata": {},
   "source": [
    "plt.figure(figsize=(24, 9))\n",
    "\n",
    "sns.countplot(data=train,x='source_type',hue='status_group')\n",
    "train.groupby('source_type')['status_group'].value_counts() / train.groupby('source_type')['status_group'].count()"
   ]
  },
  {
   "cell_type": "markdown",
   "metadata": {},
   "source": [
    "plt.figure(figsize=(24, 9))\n",
    "\n",
    "sns.countplot(data=train,x='source',hue='status_group')\n",
    "train.groupby('source')['status_group'].value_counts() / train.groupby('source')['status_group'].count()"
   ]
  },
  {
   "cell_type": "markdown",
   "metadata": {},
   "source": [
    "plt.figure(figsize=(24, 9))\n",
    "\n",
    "sns.countplot(data=train,x='quantity_group',hue='status_group')\n",
    "train.groupby('quantity_group')['status_group'].value_counts() / train.groupby('quantity_group')['status_group'].count()"
   ]
  },
  {
   "cell_type": "markdown",
   "metadata": {},
   "source": [
    "plt.figure(figsize=(24, 9))\n",
    "\n",
    "sns.countplot(data=train,x='quantity',hue='status_group')\n",
    "train.groupby('quantity')['status_group'].value_counts() / train.groupby('quantity')['status_group'].count()"
   ]
  },
  {
   "cell_type": "markdown",
   "metadata": {},
   "source": [
    "plt.figure(figsize=(24, 9))\n",
    "\n",
    "sns.countplot(data=train,x='payment_type',hue='status_group')\n",
    "train.groupby('payment_type')['status_group'].value_counts() / train.groupby('payment_type')['status_group'].count()"
   ]
  },
  {
   "cell_type": "markdown",
   "metadata": {},
   "source": [
    "plt.figure(figsize=(24, 9))\n",
    "\n",
    "sns.countplot(data=train,x='management',hue='status_group')\n",
    "train.groupby('management')['status_group'].value_counts() / train.groupby('management')['status_group'].count("
   ]
  },
  {
   "cell_type": "markdown",
   "metadata": {},
   "source": [
    "plt.figure(figsize=(24, 9))\n",
    "\n",
    "sns.countplot(data=train,x='extraction_type_class',hue='status_group')\n",
    "train.groupby('extraction_type_class')['status_group'].value_counts() / train.groupby('extraction_type_class')['status_group'].count()"
   ]
  },
  {
   "cell_type": "markdown",
   "metadata": {},
   "source": [
    "plt.figure(figsize=(24, 9))\n",
    "\n",
    "sns.countplot(data=train,x='extraction_type_group',hue='status_group')\n",
    "train.groupby('extraction_type_group')['status_group'].value_counts() / train.groupby('extraction_type_group')['status_group'].count()"
   ]
  },
  {
   "cell_type": "markdown",
   "metadata": {},
   "source": [
    "plt.figure(figsize=(24, 9))\n",
    "\n",
    "sns.countplot(data=train,x='extraction_type',hue='status_group')\n",
    "train.groupby('extraction_type')['status_group'].value_counts() / train.groupby('extraction_type')['status_group'].count()"
   ]
  },
  {
   "cell_type": "markdown",
   "metadata": {},
   "source": [
    "plt.figure(figsize=(24, 9))\n",
    "\n",
    "sns.countplot(data=train,x='construction_year',hue='status_group')\n",
    "train.groupby('construction_year')['status_group'].value_counts() / train.groupby('construction_year')['status_group'].count()"
   ]
  },
  {
   "cell_type": "markdown",
   "metadata": {},
   "source": [
    "plt.figure(figsize=(24, 9))\n",
    "\n",
    "sns.countplot(data=train,x='quantity',hue='status_group')\n",
    "train.groupby('quantity')['status_group'].value_counts() / train.groupby('quantity')['status_group'].count()"
   ]
  },
  {
   "cell_type": "markdown",
   "metadata": {},
   "source": [
    "plt.figure(figsize=(24, 9))\n",
    "\n",
    "sns.countplot(data=train,x='permit',hue='status_group')\n",
    "train.groupby('permit')['status_group'].value_counts() / train.groupby('permit')['status_group'].count()"
   ]
  },
  {
   "cell_type": "markdown",
   "metadata": {},
   "source": [
    "plt.figure(figsize=(24, 9))\n",
    "\n",
    "sns.countplot(data=train,x='scheme_management',hue='status_group')\n",
    "train.groupby('scheme_management')['status_group'].value_counts() / train.groupby('scheme_management')['status_group'].count()"
   ]
  },
  {
   "cell_type": "markdown",
   "metadata": {},
   "source": [
    "plt.figure(figsize=(24, 9))\n",
    "\n",
    "sns.countplot(data=train,x='recorded_by',hue='status_group')\n",
    "train.groupby('recorded_by')['status_group'].value_counts() / train.groupby('recorded_by')['status_group'].count()"
   ]
  },
  {
   "cell_type": "markdown",
   "metadata": {},
   "source": [
    "plt.figure(figsize=(24, 9))\n",
    "\n",
    "sns.countplot(data=train,x='waterpoint_type_group',hue='status_group')\n",
    "train.groupby('waterpoint_type_group')['status_group'].value_counts() / train.groupby('waterpoint_type_group')['status_group'].count()"
   ]
  },
  {
   "cell_type": "markdown",
   "metadata": {},
   "source": [
    "plt.figure(figsize=(24, 9))\n",
    "\n",
    "sns.countplot(data=train,x='public_meeting',hue='status_group')\n",
    "train.groupby('public_meeting')['status_group'].value_counts() / train.groupby('public_meeting')['status_group'].count()"
   ]
  },
  {
   "cell_type": "markdown",
   "metadata": {},
   "source": [
    "# Data Cleaning"
   ]
  },
  {
   "cell_type": "markdown",
   "metadata": {},
   "source": [
    "## Handling NaNs"
   ]
  },
  {
   "cell_type": "markdown",
   "metadata": {},
   "source": [
    "### Imputing Missing Values"
   ]
  },
  {
   "cell_type": "markdown",
   "metadata": {},
   "source": [
    "#### Population"
   ]
  },
  {
   "cell_type": "code",
   "execution_count": 511,
   "metadata": {},
   "outputs": [
    {
     "data": {
      "text/plain": [
       "0"
      ]
     },
     "execution_count": 511,
     "metadata": {},
     "output_type": "execute_result"
    }
   ],
   "source": [
    "data['population'].isna().sum()"
   ]
  },
  {
   "cell_type": "code",
   "execution_count": 512,
   "metadata": {},
   "outputs": [],
   "source": [
    "data['population'] = data['population'].replace(0, np.nan)"
   ]
  },
  {
   "cell_type": "code",
   "execution_count": 513,
   "metadata": {},
   "outputs": [
    {
     "data": {
      "text/plain": [
       "0         109.0\n",
       "1         280.0\n",
       "2         250.0\n",
       "3          58.0\n",
       "4           NaN\n",
       "5           1.0\n",
       "6           NaN\n",
       "7           NaN\n",
       "8           NaN\n",
       "9           NaN\n",
       "10        345.0\n",
       "11        250.0\n",
       "12          NaN\n",
       "13          1.0\n",
       "14          NaN\n",
       "15        200.0\n",
       "16         35.0\n",
       "17         50.0\n",
       "18       1000.0\n",
       "19          1.0\n",
       "20          4.0\n",
       "21          NaN\n",
       "22        350.0\n",
       "23        210.0\n",
       "24        156.0\n",
       "25        140.0\n",
       "26        260.0\n",
       "27          NaN\n",
       "28          1.0\n",
       "29          1.0\n",
       "          ...  \n",
       "14820     749.0\n",
       "14821      45.0\n",
       "14822     360.0\n",
       "14823       NaN\n",
       "14824     250.0\n",
       "14825      89.0\n",
       "14826       NaN\n",
       "14827       NaN\n",
       "14828      70.0\n",
       "14829      80.0\n",
       "14830     150.0\n",
       "14831       NaN\n",
       "14832     260.0\n",
       "14833       NaN\n",
       "14834       NaN\n",
       "14835       NaN\n",
       "14836      40.0\n",
       "14837     780.0\n",
       "14838       NaN\n",
       "14839     300.0\n",
       "14840       NaN\n",
       "14841       NaN\n",
       "14842     230.0\n",
       "14843    1400.0\n",
       "14844       NaN\n",
       "14845      20.0\n",
       "14846    2960.0\n",
       "14847     200.0\n",
       "14848     150.0\n",
       "14849      40.0\n",
       "Name: population, Length: 74250, dtype: float64"
      ]
     },
     "execution_count": 513,
     "metadata": {},
     "output_type": "execute_result"
    }
   ],
   "source": [
    "data['population']"
   ]
  },
  {
   "cell_type": "code",
   "execution_count": 514,
   "metadata": {},
   "outputs": [],
   "source": [
    "# confirm with Chris to replace by mean or median (as population is heavily skewed)\n",
    "\n",
    "data['population'] = data['population'].transform(lambda x: x.fillna(x.median()))"
   ]
  },
  {
   "cell_type": "code",
   "execution_count": 515,
   "metadata": {},
   "outputs": [
    {
     "data": {
      "text/plain": [
       "0         109.0\n",
       "1         280.0\n",
       "2         250.0\n",
       "3          58.0\n",
       "4         150.0\n",
       "5           1.0\n",
       "6         150.0\n",
       "7         150.0\n",
       "8         150.0\n",
       "9         150.0\n",
       "10        345.0\n",
       "11        250.0\n",
       "12        150.0\n",
       "13          1.0\n",
       "14        150.0\n",
       "15        200.0\n",
       "16         35.0\n",
       "17         50.0\n",
       "18       1000.0\n",
       "19          1.0\n",
       "20          4.0\n",
       "21        150.0\n",
       "22        350.0\n",
       "23        210.0\n",
       "24        156.0\n",
       "25        140.0\n",
       "26        260.0\n",
       "27        150.0\n",
       "28          1.0\n",
       "29          1.0\n",
       "          ...  \n",
       "14820     749.0\n",
       "14821      45.0\n",
       "14822     360.0\n",
       "14823     150.0\n",
       "14824     250.0\n",
       "14825      89.0\n",
       "14826     150.0\n",
       "14827     150.0\n",
       "14828      70.0\n",
       "14829      80.0\n",
       "14830     150.0\n",
       "14831     150.0\n",
       "14832     260.0\n",
       "14833     150.0\n",
       "14834     150.0\n",
       "14835     150.0\n",
       "14836      40.0\n",
       "14837     780.0\n",
       "14838     150.0\n",
       "14839     300.0\n",
       "14840     150.0\n",
       "14841     150.0\n",
       "14842     230.0\n",
       "14843    1400.0\n",
       "14844     150.0\n",
       "14845      20.0\n",
       "14846    2960.0\n",
       "14847     200.0\n",
       "14848     150.0\n",
       "14849      40.0\n",
       "Name: population, Length: 74250, dtype: float64"
      ]
     },
     "execution_count": 515,
     "metadata": {},
     "output_type": "execute_result"
    }
   ],
   "source": [
    "data['population']"
   ]
  },
  {
   "cell_type": "markdown",
   "metadata": {},
   "source": [
    "### Replacing NaNs by category \"missing\""
   ]
  },
  {
   "cell_type": "code",
   "execution_count": 516,
   "metadata": {},
   "outputs": [],
   "source": [
    "#As we cannot infer anything about the actual distribution insdie the missing values we decided to create a new category \"missing\"\n",
    "#for the following columns\n",
    "data[\"public_meeting\"] = data[\"public_meeting\"].replace(np.nan, \"unknown\")\n",
    "data[\"permit\"] = data[\"permit\"].replace(np.nan, \"unknown\")\n",
    "data['payment'] = data['payment'].fillna('unknown')\n",
    "data['water_quality'] = data['water_quality'].fillna('unknown')\n",
    "data['quantity'] = data['quantity'].fillna('unknown')\n",
    "data['source'] = data['source'].fillna('unknown')\n",
    "data['waterpoint_type'] = data['waterpoint_type'].fillna('unknown')\n",
    "data['region'] = data['region'].fillna('unknown')"
   ]
  },
  {
   "cell_type": "code",
   "execution_count": 517,
   "metadata": {},
   "outputs": [
    {
     "name": "stdout",
     "output_type": "stream",
     "text": [
      "<class 'pandas.core.frame.DataFrame'>\n",
      "Int64Index: 74250 entries, 0 to 14849\n",
      "Data columns (total 40 columns):\n",
      "id                       74250 non-null int64\n",
      "amount_tsh               74250 non-null float64\n",
      "date_recorded            74250 non-null object\n",
      "funder                   69746 non-null object\n",
      "gps_height               74250 non-null int64\n",
      "installer                69718 non-null object\n",
      "longitude                74250 non-null float64\n",
      "latitude                 74250 non-null float64\n",
      "wpt_name                 74250 non-null object\n",
      "num_private              74250 non-null int64\n",
      "basin                    74250 non-null object\n",
      "subvillage               73780 non-null object\n",
      "region                   74250 non-null object\n",
      "region_code              74250 non-null int64\n",
      "district_code            74250 non-null int64\n",
      "lga                      74250 non-null object\n",
      "ward                     74250 non-null object\n",
      "population               74250 non-null float64\n",
      "public_meeting           74250 non-null object\n",
      "recorded_by              74250 non-null object\n",
      "scheme_management        69404 non-null object\n",
      "scheme_name              38992 non-null object\n",
      "permit                   74250 non-null object\n",
      "construction_year        74250 non-null int64\n",
      "extraction_type          74250 non-null object\n",
      "extraction_type_group    74250 non-null object\n",
      "extraction_type_class    74250 non-null object\n",
      "management               74250 non-null object\n",
      "management_group         74250 non-null object\n",
      "payment                  74250 non-null object\n",
      "payment_type             74250 non-null object\n",
      "water_quality            74250 non-null object\n",
      "quality_group            74250 non-null object\n",
      "quantity                 74250 non-null object\n",
      "quantity_group           74250 non-null object\n",
      "source                   74250 non-null object\n",
      "source_type              74250 non-null object\n",
      "source_class             74250 non-null object\n",
      "waterpoint_type          74250 non-null object\n",
      "waterpoint_type_group    74250 non-null object\n",
      "dtypes: float64(4), int64(6), object(30)\n",
      "memory usage: 23.2+ MB\n"
     ]
    }
   ],
   "source": [
    "data.info()"
   ]
  },
  {
   "cell_type": "markdown",
   "metadata": {},
   "source": [
    "## Changing Variable Datatypes"
   ]
  },
  {
   "cell_type": "code",
   "execution_count": 518,
   "metadata": {},
   "outputs": [],
   "source": [
    "#train['district_code'] = train['district_code'].astype('category')\n",
    "#train[\"date_recorded\"] = pd.to_datetime(train[\"date_recorded\"])\n",
    "\n",
    "# REMOVING CONSTRUCTION YEAR FROM HERE AS REQD BELOW AS A NUMERIC TO CREATE THE VARIABLE AGE\n",
    "data['date_recorded'] = pd.to_datetime(data['date_recorded']) #converting to date time\n",
    "\n",
    "int_feature = ['region_code','district_code']\n",
    "for col in int_feature:\n",
    "    data[col] = data[col].astype('category')\n",
    "    \n",
    "    \n",
    "#int_feature = ['region_code','construction_year','district_code']\n",
    "#for col in int_feature:\n",
    "#    data[col] = data[col].astype('category')"
   ]
  },
  {
   "cell_type": "markdown",
   "metadata": {},
   "source": [
    "## Deleting Non-Informative and Duplicate Columns"
   ]
  },
  {
   "cell_type": "code",
   "execution_count": 519,
   "metadata": {},
   "outputs": [],
   "source": [
    "data = data.drop(['payment_type'], axis=1)\n",
    "data = data.drop(['quantity_group'],axis=1)\n",
    "data = data.drop(['recorded_by'],axis=1)\n",
    "data = data.drop(['num_private'],axis=1)\n",
    "data = data.drop(['scheme_name'],axis=1)"
   ]
  },
  {
   "cell_type": "markdown",
   "metadata": {},
   "source": [
    "## Reducing the amount of categories"
   ]
  },
  {
   "cell_type": "markdown",
   "metadata": {},
   "source": [
    "### scheme_management"
   ]
  },
  {
   "cell_type": "code",
   "execution_count": 520,
   "metadata": {},
   "outputs": [],
   "source": [
    "data[\"scheme_management\"] = data['scheme_management'].str.lower()"
   ]
  },
  {
   "cell_type": "code",
   "execution_count": 521,
   "metadata": {},
   "outputs": [],
   "source": [
    "# create a function to reduce the amount of dummy columns needed whilst maintaining the \n",
    "# information contained in the column.\n",
    "\n",
    "def scheme_wrangler(row):\n",
    "    '''Keep the most concentrated values and set the rest to 'other' for scheme management '''\n",
    "    if row['scheme_management']=='vwc':\n",
    "        return 'vwc'\n",
    "    elif row['scheme_management']=='wug':\n",
    "        return 'wug'\n",
    "    elif row['scheme_management']=='water authority':\n",
    "        return 'wtr_auth'\n",
    "    elif row['scheme_management']=='wua':\n",
    "        return 'wua'\n",
    "    elif row['scheme_management']=='water board':\n",
    "        return 'wtr_brd'\n",
    "    elif row['scheme_management']=='tarastatal':\n",
    "        return 'parastatal'\n",
    "    elif row['scheme_management']=='company':\n",
    "        return 'company'\n",
    "    elif row['scheme_management']=='private operator':\n",
    "        return 'private operator'\n",
    "    else:\n",
    "        return 'other'\n",
    "\n",
    "data['scheme_management'] = data.apply(lambda row: scheme_wrangler(row), axis=1)"
   ]
  },
  {
   "cell_type": "code",
   "execution_count": 522,
   "metadata": {},
   "outputs": [
    {
     "data": {
      "text/plain": [
       "vwc                 45917\n",
       "other                8182\n",
       "wug                  6496\n",
       "wtr_auth             3975\n",
       "wua                  3551\n",
       "wtr_brd              3462\n",
       "company              1341\n",
       "private operator     1326\n",
       "Name: scheme_management, dtype: int64"
      ]
     },
     "execution_count": 522,
     "metadata": {},
     "output_type": "execute_result"
    }
   ],
   "source": [
    "data.scheme_management.value_counts()"
   ]
  },
  {
   "cell_type": "markdown",
   "metadata": {},
   "source": [
    "### installer "
   ]
  },
  {
   "cell_type": "code",
   "execution_count": 523,
   "metadata": {},
   "outputs": [],
   "source": [
    "data[\"installer\"] = data['installer'].str.lower()\n",
    "def installer_wrangler(row):\n",
    "    '''reducing the amount of categories of installer'''\n",
    "    if row['installer']=='dwe':\n",
    "        return 'dwe'\n",
    "    elif row['installer']=='government':\n",
    "        return 'gov'\n",
    "    elif row['installer']=='rwe':\n",
    "        return 'rwe'\n",
    "    elif row['installer']=='commu':\n",
    "        return 'commu'\n",
    "    elif row['installer']=='danida':\n",
    "        return 'danida'\n",
    "    elif row['installer']=='kkkt':\n",
    "        return 'kkkt'\n",
    "    elif row['installer']=='hesawa':\n",
    "        return 'hesawa'\n",
    "    else:\n",
    "        return 'other'  \n",
    "\n",
    "data['installer'] = data.apply(lambda row: installer_wrangler(row), axis=1)"
   ]
  },
  {
   "cell_type": "markdown",
   "metadata": {},
   "source": [
    "### funder "
   ]
  },
  {
   "cell_type": "code",
   "execution_count": 524,
   "metadata": {},
   "outputs": [],
   "source": [
    "data[\"funder\"] = data['funder'].str.lower()\n",
    "def funder_wrangler(row):\n",
    "    '''reducing the amount of categories of installer'''\n",
    "    if row['funder']=='government of tanzania':\n",
    "        return 'government of tanzania'\n",
    "    elif row['funder']=='danida':\n",
    "        return 'danida'\n",
    "    elif row['funder']=='hesawa':\n",
    "        return 'hesawa'\n",
    "    elif row['funder']=='rwssp':\n",
    "        return 'rwssp'\n",
    "    elif row['funder']=='world bank':\n",
    "        return 'world bank'\n",
    "    elif row['funder']=='kkkt':\n",
    "        return 'kkkt'\n",
    "    elif row['funder']=='world vision':\n",
    "        return 'world vision'\n",
    "    elif row['funder']=='unicef':\n",
    "        return 'unicef'\n",
    "    elif row['funder']=='tasaf':\n",
    "        return 'tasaf'\n",
    "    elif row['funder']=='district council':\n",
    "        return 'government of tanzania'\n",
    "    elif row['funder']=='dhv':\n",
    "        return 'dhv'\n",
    "    elif row['funder']=='private individual':\n",
    "        return 'private individual'\n",
    "    else:\n",
    "        return 'other'  \n",
    "\n",
    "data['funder'] = data.apply(lambda row: funder_wrangler(row), axis=1)"
   ]
  },
  {
   "cell_type": "markdown",
   "metadata": {},
   "source": [
    "# Feature Engineering"
   ]
  },
  {
   "cell_type": "markdown",
   "metadata": {},
   "source": [
    "## Season (Spring, Summer, Fall, Winter) of year"
   ]
  },
  {
   "cell_type": "code",
   "execution_count": 525,
   "metadata": {},
   "outputs": [],
   "source": [
    "data['date_recorded_month'] = data['date_recorded'].dt.month\n",
    "#https://seasonsyear.com/Tanzania\n",
    "#spring: march, april, may\n",
    "#summer: june, july, august\n",
    "#fall: september, october, november\n",
    "#winter: december, january, february\n",
    "\n",
    "\n",
    "def season(row):\n",
    "    '''get season of the year'''\n",
    "    if row['date_recorded_month']==3:\n",
    "        return 'spring'\n",
    "    elif row['date_recorded_month']==4:\n",
    "        return 'spring'\n",
    "    elif row['date_recorded_month']==5:\n",
    "        return 'spring'\n",
    "    elif row['date_recorded_month']==6:\n",
    "        return 'summer'\n",
    "    elif row['date_recorded_month']==7:\n",
    "        return 'summer'\n",
    "    elif row['date_recorded_month']==8:\n",
    "        return 'summer'\n",
    "    elif row['date_recorded_month']==9:\n",
    "        return 'fall'\n",
    "    elif row['date_recorded_month']==10:\n",
    "        return 'fall'\n",
    "    elif row['date_recorded_month']==11:\n",
    "        return 'fall'\n",
    "    elif row['date_recorded_month']==12:\n",
    "        return 'winter'\n",
    "    elif row['date_recorded_month']==1:\n",
    "        return 'winter'\n",
    "    elif row['date_recorded_month']==2:\n",
    "        return 'winter'\n",
    "    else:\n",
    "        return 'other'  \n",
    "\n",
    "data['season'] = data.apply(lambda row: season(row), axis=1)"
   ]
  },
  {
   "cell_type": "markdown",
   "metadata": {},
   "source": [
    "## Rain or dry season"
   ]
  },
  {
   "cell_type": "code",
   "execution_count": 526,
   "metadata": {},
   "outputs": [],
   "source": [
    "#https://www.expertafrica.com/tanzania/weather-and-climate/graphs\n",
    "#strong rainfall in tansania: march, april, may, november, december\n",
    "\n",
    "def rain_dry(row):\n",
    "    '''get if rain or dry season of the year'''\n",
    "    if row['date_recorded_month']==3:\n",
    "        return 'rain_season'\n",
    "    elif row['date_recorded_month']==4:\n",
    "        return 'rain_season'\n",
    "    elif row['date_recorded_month']==5:\n",
    "        return 'rain_season'\n",
    "    elif row['date_recorded_month']==6:\n",
    "        return 'dry_season'\n",
    "    elif row['date_recorded_month']==7:\n",
    "        return 'dry_season'\n",
    "    elif row['date_recorded_month']==8:\n",
    "        return 'dry_season'\n",
    "    elif row['date_recorded_month']==9:\n",
    "        return 'dry_season'\n",
    "    elif row['date_recorded_month']==10:\n",
    "        return 'dry_season'\n",
    "    elif row['date_recorded_month']==11:\n",
    "        return 'rain_season'\n",
    "    elif row['date_recorded_month']==12:\n",
    "        return 'rain_season'\n",
    "    elif row['date_recorded_month']==1:\n",
    "        return 'dry_season'\n",
    "    elif row['date_recorded_month']==2:\n",
    "        return 'dry_season'\n",
    "    else:\n",
    "        return 'other'  \n",
    "\n",
    "data['rain_dry'] = data.apply(lambda row: rain_dry(row), axis=1)"
   ]
  },
  {
   "cell_type": "markdown",
   "metadata": {},
   "source": [
    "## Time which has passed since the well has been checked"
   ]
  },
  {
   "cell_type": "code",
   "execution_count": 527,
   "metadata": {},
   "outputs": [],
   "source": [
    "#data['date_recorded'] = pd.to_datetime(data['date_recorded']) no need done earlier\n",
    "data['date_recorded_year'] = data['date_recorded'].dt.year\n",
    "\n",
    "data['age'] = data['date_recorded_year'] - data['construction_year'] #bin, same procedure as for the original construction year\n"
   ]
  },
  {
   "cell_type": "markdown",
   "metadata": {},
   "source": [
    "## How many people consume water from the same well"
   ]
  },
  {
   "cell_type": "code",
   "execution_count": 528,
   "metadata": {},
   "outputs": [],
   "source": [
    "data['water_per_person'] = data['amount_tsh'] / data['population']   "
   ]
  },
  {
   "cell_type": "markdown",
   "metadata": {},
   "source": [
    "## Is the basin a river or lake"
   ]
  },
  {
   "cell_type": "code",
   "execution_count": 529,
   "metadata": {},
   "outputs": [],
   "source": [
    "#basin = lake or river\n",
    "def lake_river(row):\n",
    "    '''Extract if source of basin is lake or river'''\n",
    "    if row['basin']=='Lake Victoria':\n",
    "        return 'lake'\n",
    "    elif row['basin']=='Pangani':\n",
    "        return 'river'\n",
    "    elif row['basin']=='Rufiji':\n",
    "        return 'river'\n",
    "    elif row['basin']=='Lake Tanganyika':\n",
    "        return 'lake'\n",
    "    elif row['basin']=='Wami / Ruvu':\n",
    "        return 'river'\n",
    "    elif row['basin']=='Lake Nyasa':\n",
    "        return 'lake'\n",
    "    elif row['basin']=='Ruvuma / Southern Coast':\n",
    "        return 'lake'\n",
    "    else:\n",
    "        return 'other'  \n",
    "\n",
    "data['lake_river_other'] = data.apply(lambda row: lake_river(row), axis=1)"
   ]
  },
  {
   "cell_type": "markdown",
   "metadata": {},
   "source": [
    "## Is the waterpump located in a rural or urban area"
   ]
  },
  {
   "cell_type": "code",
   "execution_count": 530,
   "metadata": {},
   "outputs": [],
   "source": [
    "data[\"lga\"] = data['lga'].str.lower()"
   ]
  },
  {
   "cell_type": "code",
   "execution_count": 531,
   "metadata": {},
   "outputs": [],
   "source": [
    "def lga_split(row):\n",
    "    if \" rural\" in row[\"lga\"]:\n",
    "        return \"rural\"\n",
    "    elif \" urban\" in row[\"lga\"]:\n",
    "        return \"urban\"\n",
    "    else:\n",
    "        return \"other\""
   ]
  },
  {
   "cell_type": "code",
   "execution_count": 532,
   "metadata": {},
   "outputs": [],
   "source": [
    "data['rural_urban'] = data.apply(lambda row: lga_split(row), axis=1)"
   ]
  },
  {
   "cell_type": "markdown",
   "metadata": {},
   "source": [
    "## Is the waterpump located in a school"
   ]
  },
  {
   "cell_type": "code",
   "execution_count": 533,
   "metadata": {},
   "outputs": [],
   "source": [
    "data[\"wpt_name\"] = data['wpt_name'].str.lower()"
   ]
  },
  {
   "cell_type": "code",
   "execution_count": 534,
   "metadata": {},
   "outputs": [],
   "source": [
    "def school_split(row):\n",
    "    if \"shuleni\" in row[\"wpt_name\"]:\n",
    "        return \"school\"\n",
    "    elif \"school\" in row[\"wpt_name\"]:\n",
    "        return \"school\"\n",
    "    elif \"sekondari\" in row[\"wpt_name\"]:\n",
    "        return \"school\"\n",
    "    elif \"secondary\" in row[\"wpt_name\"]:\n",
    "        return \"school\"\n",
    "    elif \"primary\" in row[\"wpt_name\"]:\n",
    "        return \"school\"\n",
    "    elif \"primari\" in row[\"wpt_name\"]:\n",
    "        return \"school\"\n",
    "    elif \"shule\" in row[\"wpt_name\"]:\n",
    "        return \"school\"\n",
    "    elif \"scho\" in row[\"wpt_name\"]:\n",
    "        return \"school\"\n",
    "    else:\n",
    "        return \"other\""
   ]
  },
  {
   "cell_type": "code",
   "execution_count": 535,
   "metadata": {},
   "outputs": [],
   "source": [
    "data['school'] = data.apply(lambda row: school_split(row), axis=1)"
   ]
  },
  {
   "cell_type": "markdown",
   "metadata": {},
   "source": [
    "## Is the waterpump located in an area prone to floods"
   ]
  },
  {
   "cell_type": "code",
   "execution_count": 536,
   "metadata": {},
   "outputs": [],
   "source": [
    "#High chance of floods\n",
    "#https://www.researchgate.net/figure/Regions-in-Tanzania-affected-by-flood-events-1964-2014_fig1_282858615\n",
    "#Mbeya, Arusha, Pwani,  Morogoro, Mwanza, Singyanga, Dodoma, Tanga"
   ]
  },
  {
   "cell_type": "code",
   "execution_count": 537,
   "metadata": {},
   "outputs": [],
   "source": [
    "def flood_risk(row):\n",
    "    if \"Mbeya\" in row[\"region\"]:\n",
    "        return \"high\"\n",
    "    elif \"Arusha\" in row[\"region\"]:\n",
    "        return \"high\"\n",
    "    elif \"Pwani\" in row[\"region\"]:\n",
    "        return \"high\"\n",
    "    elif \"Morogoro\" in row[\"region\"]:\n",
    "        return \"high\"\n",
    "    elif \"Mwanza\" in row[\"region\"]:\n",
    "        return \"high\"\n",
    "    elif \"Singyanga\" in row[\"region\"]:\n",
    "        return \"high\"\n",
    "    elif \"Dodoma\" in row[\"region\"]:\n",
    "        return \"high\"\n",
    "    elif \"Tanga\" in row[\"region\"]:\n",
    "        return \"high\"\n",
    "    else:\n",
    "        return \"not_high\""
   ]
  },
  {
   "cell_type": "code",
   "execution_count": 538,
   "metadata": {},
   "outputs": [],
   "source": [
    "data['flood_risk'] = data.apply(lambda row: flood_risk(row), axis=1)"
   ]
  },
  {
   "cell_type": "markdown",
   "metadata": {},
   "source": [
    "# EDA Doublecheck"
   ]
  },
  {
   "cell_type": "code",
   "execution_count": 539,
   "metadata": {
    "scrolled": false
   },
   "outputs": [
    {
     "name": "stdout",
     "output_type": "stream",
     "text": [
      "<class 'pandas.core.frame.DataFrame'>\n",
      "Int64Index: 74250 entries, 0 to 14849\n",
      "Data columns (total 45 columns):\n",
      "id                       74250 non-null int64\n",
      "amount_tsh               74250 non-null float64\n",
      "date_recorded            74250 non-null datetime64[ns]\n",
      "funder                   74250 non-null object\n",
      "gps_height               74250 non-null int64\n",
      "installer                74250 non-null object\n",
      "longitude                74250 non-null float64\n",
      "latitude                 74250 non-null float64\n",
      "wpt_name                 74250 non-null object\n",
      "basin                    74250 non-null object\n",
      "subvillage               73780 non-null object\n",
      "region                   74250 non-null object\n",
      "region_code              74250 non-null category\n",
      "district_code            74250 non-null category\n",
      "lga                      74250 non-null object\n",
      "ward                     74250 non-null object\n",
      "population               74250 non-null float64\n",
      "public_meeting           74250 non-null object\n",
      "scheme_management        74250 non-null object\n",
      "permit                   74250 non-null object\n",
      "construction_year        74250 non-null int64\n",
      "extraction_type          74250 non-null object\n",
      "extraction_type_group    74250 non-null object\n",
      "extraction_type_class    74250 non-null object\n",
      "management               74250 non-null object\n",
      "management_group         74250 non-null object\n",
      "payment                  74250 non-null object\n",
      "water_quality            74250 non-null object\n",
      "quality_group            74250 non-null object\n",
      "quantity                 74250 non-null object\n",
      "source                   74250 non-null object\n",
      "source_type              74250 non-null object\n",
      "source_class             74250 non-null object\n",
      "waterpoint_type          74250 non-null object\n",
      "waterpoint_type_group    74250 non-null object\n",
      "date_recorded_month      74250 non-null int64\n",
      "season                   74250 non-null object\n",
      "rain_dry                 74250 non-null object\n",
      "date_recorded_year       74250 non-null int64\n",
      "age                      74250 non-null int64\n",
      "water_per_person         74250 non-null float64\n",
      "lake_river_other         74250 non-null object\n",
      "rural_urban              74250 non-null object\n",
      "school                   74250 non-null object\n",
      "flood_risk               74250 non-null object\n",
      "dtypes: category(2), datetime64[ns](1), float64(5), int64(6), object(31)\n",
      "memory usage: 25.1+ MB\n"
     ]
    }
   ],
   "source": [
    "data.info()"
   ]
  },
  {
   "cell_type": "code",
   "execution_count": 540,
   "metadata": {},
   "outputs": [],
   "source": [
    "# COMMENTED takes a lot of time to run (move it before ML)\n",
    "#data.profile_report(style={'full_width':True}) "
   ]
  },
  {
   "cell_type": "markdown",
   "metadata": {},
   "source": [
    "# Scaling and Binning Numerical Values"
   ]
  },
  {
   "cell_type": "markdown",
   "metadata": {},
   "source": [
    "## amount_tsh"
   ]
  },
  {
   "cell_type": "raw",
   "metadata": {},
   "source": [
    "min_max rescalling"
   ]
  },
  {
   "cell_type": "code",
   "execution_count": 541,
   "metadata": {},
   "outputs": [],
   "source": [
    "data[\"amount_tsh_scaled\"] = minmax_scale(data['amount_tsh'], feature_range=(0,1))"
   ]
  },
  {
   "cell_type": "raw",
   "metadata": {},
   "source": [
    "binning"
   ]
  },
  {
   "cell_type": "code",
   "execution_count": 542,
   "metadata": {},
   "outputs": [],
   "source": [
    " #binning temp, atemp, hum in 5 equally sized bins\n",
    "bins =  [0.000000000001, 0.19, 0.39, 0.59, 0.79, 1]\n",
    "data['amount_tsh_binned'] = pd.cut(data['amount_tsh_scaled'], bins).astype('category')\n",
    "data['amount_tsh_binned'] = data['amount_tsh_binned'].replace(np.nan, 'unknown').astype('category')"
   ]
  },
  {
   "cell_type": "markdown",
   "metadata": {},
   "source": [
    "## population"
   ]
  },
  {
   "cell_type": "raw",
   "metadata": {},
   "source": [
    "min_max rescalling"
   ]
  },
  {
   "cell_type": "code",
   "execution_count": 543,
   "metadata": {},
   "outputs": [],
   "source": [
    "data[\"population_scaled\"] = minmax_scale(data['population'], feature_range=(0,1))"
   ]
  },
  {
   "cell_type": "raw",
   "metadata": {},
   "source": [
    "binning"
   ]
  },
  {
   "cell_type": "code",
   "execution_count": 544,
   "metadata": {},
   "outputs": [],
   "source": [
    " #binning temp, atemp, hum in 5 equally sized bins\n",
    "bins =  [0.000000000001, 0.19, 0.39, 0.59, 0.79, 1]\n",
    "data['population_binned'] = pd.cut(data['population_scaled'], bins).astype('category')\n",
    "data['population_binned'] = data['population_binned'].replace(np.nan, 'pop=1').astype('category')"
   ]
  },
  {
   "cell_type": "code",
   "execution_count": 545,
   "metadata": {},
   "outputs": [
    {
     "data": {
      "text/html": [
       "<div>\n",
       "<style scoped>\n",
       "    .dataframe tbody tr th:only-of-type {\n",
       "        vertical-align: middle;\n",
       "    }\n",
       "\n",
       "    .dataframe tbody tr th {\n",
       "        vertical-align: top;\n",
       "    }\n",
       "\n",
       "    .dataframe thead th {\n",
       "        text-align: right;\n",
       "    }\n",
       "</style>\n",
       "<table border=\"1\" class=\"dataframe\">\n",
       "  <thead>\n",
       "    <tr style=\"text-align: right;\">\n",
       "      <th></th>\n",
       "      <th>id</th>\n",
       "      <th>amount_tsh</th>\n",
       "      <th>date_recorded</th>\n",
       "      <th>funder</th>\n",
       "      <th>gps_height</th>\n",
       "      <th>installer</th>\n",
       "      <th>longitude</th>\n",
       "      <th>latitude</th>\n",
       "      <th>wpt_name</th>\n",
       "      <th>basin</th>\n",
       "      <th>...</th>\n",
       "      <th>age</th>\n",
       "      <th>water_per_person</th>\n",
       "      <th>lake_river_other</th>\n",
       "      <th>rural_urban</th>\n",
       "      <th>school</th>\n",
       "      <th>flood_risk</th>\n",
       "      <th>amount_tsh_scaled</th>\n",
       "      <th>amount_tsh_binned</th>\n",
       "      <th>population_scaled</th>\n",
       "      <th>population_binned</th>\n",
       "    </tr>\n",
       "  </thead>\n",
       "  <tbody>\n",
       "    <tr>\n",
       "      <th>0</th>\n",
       "      <td>69572</td>\n",
       "      <td>6000.0</td>\n",
       "      <td>2011-03-14</td>\n",
       "      <td>other</td>\n",
       "      <td>1390</td>\n",
       "      <td>other</td>\n",
       "      <td>34.938093</td>\n",
       "      <td>-9.856322</td>\n",
       "      <td>none</td>\n",
       "      <td>Lake Nyasa</td>\n",
       "      <td>...</td>\n",
       "      <td>12</td>\n",
       "      <td>55.045872</td>\n",
       "      <td>lake</td>\n",
       "      <td>other</td>\n",
       "      <td>other</td>\n",
       "      <td>not_high</td>\n",
       "      <td>0.017143</td>\n",
       "      <td>(1e-12, 0.19]</td>\n",
       "      <td>0.003541</td>\n",
       "      <td>(1e-12, 0.19]</td>\n",
       "    </tr>\n",
       "    <tr>\n",
       "      <th>1</th>\n",
       "      <td>8776</td>\n",
       "      <td>0.0</td>\n",
       "      <td>2013-03-06</td>\n",
       "      <td>other</td>\n",
       "      <td>1399</td>\n",
       "      <td>other</td>\n",
       "      <td>34.698766</td>\n",
       "      <td>-2.147466</td>\n",
       "      <td>zahanati</td>\n",
       "      <td>Lake Victoria</td>\n",
       "      <td>...</td>\n",
       "      <td>3</td>\n",
       "      <td>0.000000</td>\n",
       "      <td>lake</td>\n",
       "      <td>other</td>\n",
       "      <td>other</td>\n",
       "      <td>not_high</td>\n",
       "      <td>0.000000</td>\n",
       "      <td>unknown</td>\n",
       "      <td>0.009148</td>\n",
       "      <td>(1e-12, 0.19]</td>\n",
       "    </tr>\n",
       "    <tr>\n",
       "      <th>2</th>\n",
       "      <td>34310</td>\n",
       "      <td>25.0</td>\n",
       "      <td>2013-02-25</td>\n",
       "      <td>other</td>\n",
       "      <td>686</td>\n",
       "      <td>other</td>\n",
       "      <td>37.460664</td>\n",
       "      <td>-3.821329</td>\n",
       "      <td>kwa mahundi</td>\n",
       "      <td>Pangani</td>\n",
       "      <td>...</td>\n",
       "      <td>4</td>\n",
       "      <td>0.100000</td>\n",
       "      <td>river</td>\n",
       "      <td>other</td>\n",
       "      <td>other</td>\n",
       "      <td>not_high</td>\n",
       "      <td>0.000071</td>\n",
       "      <td>(1e-12, 0.19]</td>\n",
       "      <td>0.008164</td>\n",
       "      <td>(1e-12, 0.19]</td>\n",
       "    </tr>\n",
       "    <tr>\n",
       "      <th>3</th>\n",
       "      <td>67743</td>\n",
       "      <td>0.0</td>\n",
       "      <td>2013-01-28</td>\n",
       "      <td>unicef</td>\n",
       "      <td>263</td>\n",
       "      <td>other</td>\n",
       "      <td>38.486161</td>\n",
       "      <td>-11.155298</td>\n",
       "      <td>zahanati ya nanyumbu</td>\n",
       "      <td>Ruvuma / Southern Coast</td>\n",
       "      <td>...</td>\n",
       "      <td>27</td>\n",
       "      <td>0.000000</td>\n",
       "      <td>lake</td>\n",
       "      <td>other</td>\n",
       "      <td>other</td>\n",
       "      <td>not_high</td>\n",
       "      <td>0.000000</td>\n",
       "      <td>unknown</td>\n",
       "      <td>0.001869</td>\n",
       "      <td>(1e-12, 0.19]</td>\n",
       "    </tr>\n",
       "    <tr>\n",
       "      <th>4</th>\n",
       "      <td>19728</td>\n",
       "      <td>0.0</td>\n",
       "      <td>2011-07-13</td>\n",
       "      <td>other</td>\n",
       "      <td>0</td>\n",
       "      <td>other</td>\n",
       "      <td>31.130847</td>\n",
       "      <td>-1.825359</td>\n",
       "      <td>shuleni</td>\n",
       "      <td>Lake Victoria</td>\n",
       "      <td>...</td>\n",
       "      <td>2011</td>\n",
       "      <td>0.000000</td>\n",
       "      <td>lake</td>\n",
       "      <td>other</td>\n",
       "      <td>school</td>\n",
       "      <td>not_high</td>\n",
       "      <td>0.000000</td>\n",
       "      <td>unknown</td>\n",
       "      <td>0.004885</td>\n",
       "      <td>(1e-12, 0.19]</td>\n",
       "    </tr>\n",
       "  </tbody>\n",
       "</table>\n",
       "<p>5 rows × 49 columns</p>\n",
       "</div>"
      ],
      "text/plain": [
       "      id  amount_tsh date_recorded  funder  gps_height installer  longitude  \\\n",
       "0  69572      6000.0    2011-03-14   other        1390     other  34.938093   \n",
       "1   8776         0.0    2013-03-06   other        1399     other  34.698766   \n",
       "2  34310        25.0    2013-02-25   other         686     other  37.460664   \n",
       "3  67743         0.0    2013-01-28  unicef         263     other  38.486161   \n",
       "4  19728         0.0    2011-07-13   other           0     other  31.130847   \n",
       "\n",
       "    latitude              wpt_name                    basin  ...   age  \\\n",
       "0  -9.856322                  none               Lake Nyasa  ...    12   \n",
       "1  -2.147466              zahanati            Lake Victoria  ...     3   \n",
       "2  -3.821329           kwa mahundi                  Pangani  ...     4   \n",
       "3 -11.155298  zahanati ya nanyumbu  Ruvuma / Southern Coast  ...    27   \n",
       "4  -1.825359               shuleni            Lake Victoria  ...  2011   \n",
       "\n",
       "  water_per_person lake_river_other rural_urban  school flood_risk  \\\n",
       "0        55.045872             lake       other   other   not_high   \n",
       "1         0.000000             lake       other   other   not_high   \n",
       "2         0.100000            river       other   other   not_high   \n",
       "3         0.000000             lake       other   other   not_high   \n",
       "4         0.000000             lake       other  school   not_high   \n",
       "\n",
       "   amount_tsh_scaled amount_tsh_binned population_scaled population_binned  \n",
       "0           0.017143     (1e-12, 0.19]          0.003541     (1e-12, 0.19]  \n",
       "1           0.000000           unknown          0.009148     (1e-12, 0.19]  \n",
       "2           0.000071     (1e-12, 0.19]          0.008164     (1e-12, 0.19]  \n",
       "3           0.000000           unknown          0.001869     (1e-12, 0.19]  \n",
       "4           0.000000           unknown          0.004885     (1e-12, 0.19]  \n",
       "\n",
       "[5 rows x 49 columns]"
      ]
     },
     "execution_count": 545,
     "metadata": {},
     "output_type": "execute_result"
    }
   ],
   "source": [
    "data.head()"
   ]
  },
  {
   "cell_type": "markdown",
   "metadata": {},
   "source": [
    "## gps_height"
   ]
  },
  {
   "cell_type": "code",
   "execution_count": 546,
   "metadata": {},
   "outputs": [
    {
     "name": "stdout",
     "output_type": "stream",
     "text": [
      "<class 'pandas.core.frame.DataFrame'>\n",
      "Int64Index: 74250 entries, 0 to 14849\n",
      "Data columns (total 49 columns):\n",
      "id                       74250 non-null int64\n",
      "amount_tsh               74250 non-null float64\n",
      "date_recorded            74250 non-null datetime64[ns]\n",
      "funder                   74250 non-null object\n",
      "gps_height               74250 non-null int64\n",
      "installer                74250 non-null object\n",
      "longitude                74250 non-null float64\n",
      "latitude                 74250 non-null float64\n",
      "wpt_name                 74250 non-null object\n",
      "basin                    74250 non-null object\n",
      "subvillage               73780 non-null object\n",
      "region                   74250 non-null object\n",
      "region_code              74250 non-null category\n",
      "district_code            74250 non-null category\n",
      "lga                      74250 non-null object\n",
      "ward                     74250 non-null object\n",
      "population               74250 non-null float64\n",
      "public_meeting           74250 non-null object\n",
      "scheme_management        74250 non-null object\n",
      "permit                   74250 non-null object\n",
      "construction_year        74250 non-null int64\n",
      "extraction_type          74250 non-null object\n",
      "extraction_type_group    74250 non-null object\n",
      "extraction_type_class    74250 non-null object\n",
      "management               74250 non-null object\n",
      "management_group         74250 non-null object\n",
      "payment                  74250 non-null object\n",
      "water_quality            74250 non-null object\n",
      "quality_group            74250 non-null object\n",
      "quantity                 74250 non-null object\n",
      "source                   74250 non-null object\n",
      "source_type              74250 non-null object\n",
      "source_class             74250 non-null object\n",
      "waterpoint_type          74250 non-null object\n",
      "waterpoint_type_group    74250 non-null object\n",
      "date_recorded_month      74250 non-null int64\n",
      "season                   74250 non-null object\n",
      "rain_dry                 74250 non-null object\n",
      "date_recorded_year       74250 non-null int64\n",
      "age                      74250 non-null int64\n",
      "water_per_person         74250 non-null float64\n",
      "lake_river_other         74250 non-null object\n",
      "rural_urban              74250 non-null object\n",
      "school                   74250 non-null object\n",
      "flood_risk               74250 non-null object\n",
      "amount_tsh_scaled        74250 non-null float64\n",
      "amount_tsh_binned        74250 non-null category\n",
      "population_scaled        74250 non-null float64\n",
      "population_binned        74250 non-null category\n",
      "dtypes: category(4), datetime64[ns](1), float64(7), int64(6), object(31)\n",
      "memory usage: 26.3+ MB\n"
     ]
    }
   ],
   "source": [
    "data.info()"
   ]
  },
  {
   "cell_type": "code",
   "execution_count": 547,
   "metadata": {},
   "outputs": [],
   "source": [
    "data2 = pd.concat([train_values,test], ignore_index=True)\n",
    "\n",
    "data2['gps_height'] = data2['gps_height'].replace(0, np.nan)\n",
    "#data.info()\n",
    "import math as math\n",
    "Subvillage = data2.groupby([\"subvillage\"])[\"gps_height\"].agg([\"mean\", \"median\"])\n",
    "Subvillage.head(10)\n",
    "\n",
    "data2.loc[data2[\"gps_height\"].isnull(), \"gps_height\"] = data2.groupby([\"subvillage\"])[\"gps_height\"].transform(\"mean\")\n",
    "data2.loc[data2[\"gps_height\"].isnull(), \"gps_height\"] = data2.groupby([\"ward\"])[\"gps_height\"].transform(\"mean\")\n",
    "data2.loc[data2[\"gps_height\"].isnull(), \"gps_height\"] = data2.groupby([\"lga\"])[\"gps_height\"].transform(\"mean\")\n",
    "data2.loc[data2[\"gps_height\"].isnull(), \"gps_height\"] = data2.groupby([\"district_code\"])[\"gps_height\"].transform(\"mean\")\n",
    "\n",
    "# If we want to use the median:\n",
    "\n",
    "#data.loc[data[\"gps_height\"].isnull(), \"gps_height\"] = data.groupby([\"subvillage\"])[\"gps_height\"].transform(\"median\")\n",
    "#data.loc[data[\"gps_height\"].isnull(), \"gps_height\"] = data.groupby([\"ward\"])[\"gps_height\"].transform(\"median\")\n",
    "#data.loc[data[\"gps_height\"].isnull(), \"gps_height\"] = data.groupby([\"lga\"])[\"gps_height\"].transform(\"median\")\n",
    "#data.loc[data[\"gps_height\"].isnull(), \"gps_height\"] = data.groupby([\"district_code\"])[\"gps_height\"].transform(\"median\")\n",
    "\n",
    "\n",
    "#data.info()"
   ]
  },
  {
   "cell_type": "code",
   "execution_count": 548,
   "metadata": {},
   "outputs": [],
   "source": [
    "data2['longitude'] = data2['longitude'].replace(0, np.nan)\n",
    "#data.info()\n",
    "\n",
    "data2.loc[data2[\"longitude\"].isnull(), \"longitude\"] = data2.groupby([\"subvillage\"])[\"longitude\"].transform(\"mean\")\n",
    "data2.loc[data2[\"longitude\"].isnull(), \"longitude\"] = data2.groupby([\"ward\"])[\"longitude\"].transform(\"mean\")\n",
    "data2.loc[data2[\"longitude\"].isnull(), \"longitude\"] = data2.groupby([\"lga\"])[\"longitude\"].transform(\"mean\")\n",
    "data2.loc[data2[\"longitude\"].isnull(), \"longitude\"] = data2.groupby([\"district_code\"])[\"longitude\"].transform(\"mean\")\n",
    "#data2.info()\n",
    "\n",
    "# If we want to use the median:\n",
    "\n",
    "#data.loc[data[\"longitude\"].isnull(), \"longitude\"] = data.groupby([\"subvillage\"])[\"longitude\"].transform(\"median\")\n",
    "#data.loc[data[\"longitude\"].isnull(), \"longitude\"] = data.groupby([\"ward\"])[\"longitude\"].transform(\"median\")\n",
    "#data.loc[data[\"longitude\"].isnull(), \"longitude\"] = data.groupby([\"lga\"])[\"longitude\"].transform(\"median\")\n",
    "#data.loc[data[\"longitude\"].isnull(), \"longitude\"] = data.groupby([\"district_code\"])[\"longitude\"].transform(\"median\")\n",
    "\n",
    "# There are no zeros on latitude \n",
    "data2['latitude'] = data2['latitude'].replace(0, np.nan)\n",
    "#data.info()"
   ]
  },
  {
   "cell_type": "code",
   "execution_count": 549,
   "metadata": {},
   "outputs": [],
   "source": [
    "data[\"gps_height\"] = data2['gps_height']\n",
    "data['longitude'] = data2['longitude']"
   ]
  },
  {
   "cell_type": "raw",
   "metadata": {},
   "source": [
    "min_max rescalling"
   ]
  },
  {
   "cell_type": "code",
   "execution_count": 550,
   "metadata": {},
   "outputs": [],
   "source": [
    "data[\"gps_height_scaled\"] = minmax_scale(data['gps_height'], feature_range=(0,1))"
   ]
  },
  {
   "cell_type": "raw",
   "metadata": {},
   "source": [
    "binning"
   ]
  },
  {
   "cell_type": "code",
   "execution_count": 551,
   "metadata": {},
   "outputs": [],
   "source": [
    " #binning temp, atemp, hum in 5 equally sized bins\n",
    "bins =  [0.00000, 0.19, 0.39, 0.59, 0.79, 1]\n",
    "data['gps_height_binned'] = pd.cut(data['gps_height_scaled'], bins).astype('category')\n",
    "#train['gps_height_binned'] = train['gps_height_binned'].replace(np.nan, 'pop=1').astype('category')"
   ]
  },
  {
   "cell_type": "code",
   "execution_count": 552,
   "metadata": {},
   "outputs": [
    {
     "data": {
      "text/plain": [
       "0        (0.39, 0.59]\n",
       "1        (0.39, 0.59]\n",
       "2        (0.19, 0.39]\n",
       "3         (0.0, 0.19]\n",
       "4        (0.39, 0.59]\n",
       "5        (0.19, 0.39]\n",
       "6        (0.19, 0.39]\n",
       "7        (0.19, 0.39]\n",
       "8         (0.0, 0.19]\n",
       "9        (0.19, 0.39]\n",
       "10        (0.0, 0.19]\n",
       "11       (0.39, 0.59]\n",
       "12       (0.19, 0.39]\n",
       "13       (0.39, 0.59]\n",
       "14       (0.39, 0.59]\n",
       "15       (0.59, 0.79]\n",
       "16       (0.59, 0.79]\n",
       "17       (0.59, 0.79]\n",
       "18       (0.39, 0.59]\n",
       "19       (0.59, 0.79]\n",
       "20        (0.79, 1.0]\n",
       "21       (0.39, 0.59]\n",
       "22       (0.39, 0.59]\n",
       "23       (0.19, 0.39]\n",
       "24       (0.59, 0.79]\n",
       "25       (0.39, 0.59]\n",
       "26        (0.0, 0.19]\n",
       "27        (0.0, 0.19]\n",
       "28       (0.39, 0.59]\n",
       "29       (0.39, 0.59]\n",
       "             ...     \n",
       "14820    (0.39, 0.59]\n",
       "14821    (0.39, 0.59]\n",
       "14822    (0.19, 0.39]\n",
       "14823    (0.39, 0.59]\n",
       "14824    (0.19, 0.39]\n",
       "14825     (0.0, 0.19]\n",
       "14826    (0.39, 0.59]\n",
       "14827    (0.39, 0.59]\n",
       "14828     (0.0, 0.19]\n",
       "14829    (0.59, 0.79]\n",
       "14830    (0.19, 0.39]\n",
       "14831    (0.19, 0.39]\n",
       "14832    (0.39, 0.59]\n",
       "14833    (0.19, 0.39]\n",
       "14834    (0.39, 0.59]\n",
       "14835    (0.39, 0.59]\n",
       "14836     (0.0, 0.19]\n",
       "14837     (0.0, 0.19]\n",
       "14838    (0.39, 0.59]\n",
       "14839     (0.0, 0.19]\n",
       "14840    (0.39, 0.59]\n",
       "14841     (0.0, 0.19]\n",
       "14842    (0.39, 0.59]\n",
       "14843    (0.39, 0.59]\n",
       "14844    (0.39, 0.59]\n",
       "14845    (0.19, 0.39]\n",
       "14846    (0.39, 0.59]\n",
       "14847     (0.0, 0.19]\n",
       "14848    (0.39, 0.59]\n",
       "14849    (0.39, 0.59]\n",
       "Name: gps_height_binned, Length: 74250, dtype: category\n",
       "Categories (5, interval[float64]): [(0.0, 0.19] < (0.19, 0.39] < (0.39, 0.59] < (0.59, 0.79] < (0.79, 1.0]]"
      ]
     },
     "execution_count": 552,
     "metadata": {},
     "output_type": "execute_result"
    }
   ],
   "source": [
    "data['gps_height_binned']"
   ]
  },
  {
   "cell_type": "markdown",
   "metadata": {},
   "source": [
    "# Age"
   ]
  },
  {
   "cell_type": "code",
   "execution_count": 553,
   "metadata": {},
   "outputs": [
    {
     "data": {
      "text/plain": [
       "0       12\n",
       "1        3\n",
       "2        4\n",
       "3       27\n",
       "4     2011\n",
       "5        2\n",
       "6     2012\n",
       "7     2012\n",
       "8     2012\n",
       "9     2011\n",
       "10       0\n",
       "11      26\n",
       "12    2012\n",
       "13       4\n",
       "14    2012\n",
       "15      20\n",
       "16      33\n",
       "17      33\n",
       "18      12\n",
       "19      19\n",
       "Name: age, dtype: int64"
      ]
     },
     "execution_count": 553,
     "metadata": {},
     "output_type": "execute_result"
    }
   ],
   "source": [
    "data[\"age\"].head(20)"
   ]
  },
  {
   "cell_type": "code",
   "execution_count": 554,
   "metadata": {},
   "outputs": [],
   "source": [
    "data[\"age_clipped\"] = data['age'].replace(0, 0.001)"
   ]
  },
  {
   "cell_type": "code",
   "execution_count": 555,
   "metadata": {},
   "outputs": [
    {
     "data": {
      "text/plain": [
       "0       12.000\n",
       "1        3.000\n",
       "2        4.000\n",
       "3       27.000\n",
       "4     2011.000\n",
       "5        2.000\n",
       "6     2012.000\n",
       "7     2012.000\n",
       "8     2012.000\n",
       "9     2011.000\n",
       "10       0.001\n",
       "11      26.000\n",
       "12    2012.000\n",
       "13       4.000\n",
       "14    2012.000\n",
       "Name: age_clipped, dtype: float64"
      ]
     },
     "execution_count": 555,
     "metadata": {},
     "output_type": "execute_result"
    }
   ],
   "source": [
    "data[\"age_clipped\"].head(15)"
   ]
  },
  {
   "cell_type": "code",
   "execution_count": 556,
   "metadata": {},
   "outputs": [],
   "source": [
    "data[\"age_clipped\"] = np.clip(data[\"age_clipped\"], 0, 500)"
   ]
  },
  {
   "cell_type": "code",
   "execution_count": 557,
   "metadata": {},
   "outputs": [
    {
     "data": {
      "text/plain": [
       "0      12.000\n",
       "1       3.000\n",
       "2       4.000\n",
       "3      27.000\n",
       "4     500.000\n",
       "5       2.000\n",
       "6     500.000\n",
       "7     500.000\n",
       "8     500.000\n",
       "9     500.000\n",
       "10      0.001\n",
       "11     26.000\n",
       "12    500.000\n",
       "13      4.000\n",
       "14    500.000\n",
       "Name: age_clipped, dtype: float64"
      ]
     },
     "execution_count": 557,
     "metadata": {},
     "output_type": "execute_result"
    }
   ],
   "source": [
    "data[\"age_clipped\"].head(15)"
   ]
  },
  {
   "cell_type": "code",
   "execution_count": 558,
   "metadata": {},
   "outputs": [],
   "source": [
    "data[\"age_clipped\"] = data['age_clipped'].replace(500, 0)"
   ]
  },
  {
   "cell_type": "code",
   "execution_count": 559,
   "metadata": {},
   "outputs": [
    {
     "data": {
      "text/plain": [
       "0     12.000\n",
       "1      3.000\n",
       "2      4.000\n",
       "3     27.000\n",
       "4      0.000\n",
       "5      2.000\n",
       "6      0.000\n",
       "7      0.000\n",
       "8      0.000\n",
       "9      0.000\n",
       "10     0.001\n",
       "11    26.000\n",
       "12     0.000\n",
       "13     4.000\n",
       "14     0.000\n",
       "15    20.000\n",
       "16    33.000\n",
       "17    33.000\n",
       "18    12.000\n",
       "19    19.000\n",
       "Name: age_clipped, dtype: float64"
      ]
     },
     "execution_count": 559,
     "metadata": {},
     "output_type": "execute_result"
    }
   ],
   "source": [
    "data[\"age_clipped\"].head(20)"
   ]
  },
  {
   "cell_type": "raw",
   "metadata": {},
   "source": [
    "min_max rescalling"
   ]
  },
  {
   "cell_type": "code",
   "execution_count": 560,
   "metadata": {},
   "outputs": [],
   "source": [
    "data[\"age_clipped_scaled\"] = minmax_scale(data['age_clipped'], feature_range=(0,1))"
   ]
  },
  {
   "cell_type": "code",
   "execution_count": 561,
   "metadata": {},
   "outputs": [
    {
     "data": {
      "text/plain": [
       "0     0.226415\n",
       "1     0.056604\n",
       "2     0.075472\n",
       "3     0.509434\n",
       "4     0.000000\n",
       "5     0.037736\n",
       "6     0.000000\n",
       "7     0.000000\n",
       "8     0.000000\n",
       "9     0.000000\n",
       "10    0.000019\n",
       "11    0.490566\n",
       "12    0.000000\n",
       "13    0.075472\n",
       "14    0.000000\n",
       "15    0.377358\n",
       "16    0.622642\n",
       "17    0.622642\n",
       "18    0.226415\n",
       "19    0.358491\n",
       "Name: age_clipped_scaled, dtype: float64"
      ]
     },
     "execution_count": 561,
     "metadata": {},
     "output_type": "execute_result"
    }
   ],
   "source": [
    "data[\"age_clipped_scaled\"].head(20)"
   ]
  },
  {
   "cell_type": "raw",
   "metadata": {},
   "source": [
    "binning"
   ]
  },
  {
   "cell_type": "code",
   "execution_count": 562,
   "metadata": {},
   "outputs": [],
   "source": [
    "bins =  [0.000000000001, 0.19, 0.39, 0.59, 0.79, 1]\n",
    "data['age_clipped_binned'] = pd.cut(data['age_clipped_scaled'], bins).astype('category')\n",
    "data['age_clipped_binned'] = data['age_clipped_binned'].replace(np.nan, 'unknown').astype('category')"
   ]
  },
  {
   "cell_type": "code",
   "execution_count": 563,
   "metadata": {},
   "outputs": [
    {
     "data": {
      "text/plain": [
       "0         (0.19, 0.39]\n",
       "1        (1e-12, 0.19]\n",
       "2        (1e-12, 0.19]\n",
       "3         (0.39, 0.59]\n",
       "4              unknown\n",
       "5        (1e-12, 0.19]\n",
       "6              unknown\n",
       "7              unknown\n",
       "8              unknown\n",
       "9              unknown\n",
       "10       (1e-12, 0.19]\n",
       "11        (0.39, 0.59]\n",
       "12             unknown\n",
       "13       (1e-12, 0.19]\n",
       "14             unknown\n",
       "15        (0.19, 0.39]\n",
       "16        (0.59, 0.79]\n",
       "17        (0.59, 0.79]\n",
       "18        (0.19, 0.39]\n",
       "19        (0.19, 0.39]\n",
       "20       (1e-12, 0.19]\n",
       "21             unknown\n",
       "22        (0.59, 0.79]\n",
       "23       (1e-12, 0.19]\n",
       "24       (1e-12, 0.19]\n",
       "25        (0.59, 0.79]\n",
       "26       (1e-12, 0.19]\n",
       "27             unknown\n",
       "28        (0.19, 0.39]\n",
       "29        (0.19, 0.39]\n",
       "             ...      \n",
       "14820     (0.19, 0.39]\n",
       "14821    (1e-12, 0.19]\n",
       "14822     (0.19, 0.39]\n",
       "14823          unknown\n",
       "14824    (1e-12, 0.19]\n",
       "14825     (0.59, 0.79]\n",
       "14826          unknown\n",
       "14827          unknown\n",
       "14828          unknown\n",
       "14829    (1e-12, 0.19]\n",
       "14830     (0.19, 0.39]\n",
       "14831          unknown\n",
       "14832     (0.19, 0.39]\n",
       "14833    (1e-12, 0.19]\n",
       "14834          unknown\n",
       "14835          unknown\n",
       "14836    (1e-12, 0.19]\n",
       "14837    (1e-12, 0.19]\n",
       "14838     (0.39, 0.59]\n",
       "14839    (1e-12, 0.19]\n",
       "14840    (1e-12, 0.19]\n",
       "14841          unknown\n",
       "14842    (1e-12, 0.19]\n",
       "14843     (0.19, 0.39]\n",
       "14844          unknown\n",
       "14845     (0.39, 0.59]\n",
       "14846     (0.19, 0.39]\n",
       "14847    (1e-12, 0.19]\n",
       "14848    (1e-12, 0.19]\n",
       "14849    (1e-12, 0.19]\n",
       "Name: age_clipped_binned, Length: 74250, dtype: category\n",
       "Categories (6, object): [(1e-12, 0.19], (0.19, 0.39], (0.39, 0.59], (0.59, 0.79], (0.79, 1.0], unknown]"
      ]
     },
     "execution_count": 563,
     "metadata": {},
     "output_type": "execute_result"
    }
   ],
   "source": [
    "data['age_clipped_binned']"
   ]
  },
  {
   "cell_type": "markdown",
   "metadata": {},
   "source": [
    "## Construction Year"
   ]
  },
  {
   "cell_type": "code",
   "execution_count": 564,
   "metadata": {},
   "outputs": [],
   "source": [
    "bins = [1950, 1960, 1970, 1980, 1990, 2000, 2010, 2020]\n",
    "data['construction_year_binned'] = pd.cut(data['construction_year'], bins).astype('category')"
   ]
  },
  {
   "cell_type": "code",
   "execution_count": 565,
   "metadata": {},
   "outputs": [],
   "source": [
    "data['construction_year_binned'] = data['construction_year_binned'].replace(np.nan, 'unknown').astype('category')"
   ]
  },
  {
   "cell_type": "code",
   "execution_count": 566,
   "metadata": {},
   "outputs": [
    {
     "data": {
      "text/plain": [
       "0        (1990.0, 2000.0]\n",
       "1        (2000.0, 2010.0]\n",
       "2        (2000.0, 2010.0]\n",
       "3        (1980.0, 1990.0]\n",
       "4                 unknown\n",
       "5        (2000.0, 2010.0]\n",
       "6                 unknown\n",
       "7                 unknown\n",
       "8                 unknown\n",
       "9                 unknown\n",
       "10       (2010.0, 2020.0]\n",
       "11       (1980.0, 1990.0]\n",
       "12                unknown\n",
       "13       (2000.0, 2010.0]\n",
       "14                unknown\n",
       "15       (1990.0, 2000.0]\n",
       "16       (1970.0, 1980.0]\n",
       "17       (1970.0, 1980.0]\n",
       "18       (1990.0, 2000.0]\n",
       "19       (1990.0, 2000.0]\n",
       "20       (2000.0, 2010.0]\n",
       "21                unknown\n",
       "22       (1970.0, 1980.0]\n",
       "23       (2010.0, 2020.0]\n",
       "24       (2000.0, 2010.0]\n",
       "25       (1970.0, 1980.0]\n",
       "26       (2010.0, 2020.0]\n",
       "27                unknown\n",
       "28       (1990.0, 2000.0]\n",
       "29       (2000.0, 2010.0]\n",
       "               ...       \n",
       "14820    (2000.0, 2010.0]\n",
       "14821    (2000.0, 2010.0]\n",
       "14822    (1990.0, 2000.0]\n",
       "14823             unknown\n",
       "14824    (2000.0, 2010.0]\n",
       "14825    (1970.0, 1980.0]\n",
       "14826             unknown\n",
       "14827             unknown\n",
       "14828             unknown\n",
       "14829    (2000.0, 2010.0]\n",
       "14830    (1990.0, 2000.0]\n",
       "14831             unknown\n",
       "14832    (2000.0, 2010.0]\n",
       "14833    (2000.0, 2010.0]\n",
       "14834             unknown\n",
       "14835             unknown\n",
       "14836    (2000.0, 2010.0]\n",
       "14837    (2000.0, 2010.0]\n",
       "14838    (1980.0, 1990.0]\n",
       "14839    (2000.0, 2010.0]\n",
       "14840    (2000.0, 2010.0]\n",
       "14841             unknown\n",
       "14842    (2000.0, 2010.0]\n",
       "14843    (1990.0, 2000.0]\n",
       "14844             unknown\n",
       "14845    (1980.0, 1990.0]\n",
       "14846    (1990.0, 2000.0]\n",
       "14847    (2000.0, 2010.0]\n",
       "14848    (2000.0, 2010.0]\n",
       "14849    (2000.0, 2010.0]\n",
       "Name: construction_year_binned, Length: 74250, dtype: category\n",
       "Categories (8, object): [(1950.0, 1960.0], (1960.0, 1970.0], (1970.0, 1980.0], (1980.0, 1990.0], (1990.0, 2000.0], (2000.0, 2010.0], (2010.0, 2020.0], unknown]"
      ]
     },
     "execution_count": 566,
     "metadata": {},
     "output_type": "execute_result"
    }
   ],
   "source": [
    "data['construction_year_binned']"
   ]
  },
  {
   "cell_type": "markdown",
   "metadata": {},
   "source": [
    "## Water per Person"
   ]
  },
  {
   "cell_type": "code",
   "execution_count": 567,
   "metadata": {},
   "outputs": [],
   "source": [
    "data[\"water_per_person_scaled\"] = minmax_scale(data['water_per_person'], feature_range=(0,1))"
   ]
  },
  {
   "cell_type": "code",
   "execution_count": 568,
   "metadata": {},
   "outputs": [],
   "source": [
    "#binning temp, atemp, hum in 5 equally sized bins\n",
    "bins = [0.000000000001, 0.19, 0.39, 0.59, 0.79, 1]\n",
    "data['water_per_person_binned'] = pd.cut(data['water_per_person_scaled'], bins).astype('category')\n",
    "data['water_per_person_binned'] = data['water_per_person_binned'].replace(np.nan, 'unknown').astype('category')"
   ]
  },
  {
   "cell_type": "code",
   "execution_count": 569,
   "metadata": {
    "scrolled": true
   },
   "outputs": [
    {
     "data": {
      "text/plain": [
       "0        (1e-12, 0.19]\n",
       "1              unknown\n",
       "2        (1e-12, 0.19]\n",
       "3              unknown\n",
       "4              unknown\n",
       "5        (1e-12, 0.19]\n",
       "6              unknown\n",
       "7              unknown\n",
       "8              unknown\n",
       "9              unknown\n",
       "10             unknown\n",
       "11       (1e-12, 0.19]\n",
       "12             unknown\n",
       "13             unknown\n",
       "14             unknown\n",
       "15             unknown\n",
       "16       (1e-12, 0.19]\n",
       "17             unknown\n",
       "18             unknown\n",
       "19       (1e-12, 0.19]\n",
       "20       (1e-12, 0.19]\n",
       "21             unknown\n",
       "22             unknown\n",
       "23       (1e-12, 0.19]\n",
       "24             unknown\n",
       "25             unknown\n",
       "26       (1e-12, 0.19]\n",
       "27             unknown\n",
       "28             unknown\n",
       "29             unknown\n",
       "             ...      \n",
       "14820          unknown\n",
       "14821    (1e-12, 0.19]\n",
       "14822    (1e-12, 0.19]\n",
       "14823          unknown\n",
       "14824          unknown\n",
       "14825          unknown\n",
       "14826          unknown\n",
       "14827          unknown\n",
       "14828    (1e-12, 0.19]\n",
       "14829          unknown\n",
       "14830          unknown\n",
       "14831          unknown\n",
       "14832          unknown\n",
       "14833    (1e-12, 0.19]\n",
       "14834          unknown\n",
       "14835          unknown\n",
       "14836          unknown\n",
       "14837    (1e-12, 0.19]\n",
       "14838    (1e-12, 0.19]\n",
       "14839          unknown\n",
       "14840          unknown\n",
       "14841          unknown\n",
       "14842    (1e-12, 0.19]\n",
       "14843          unknown\n",
       "14844          unknown\n",
       "14845          unknown\n",
       "14846    (1e-12, 0.19]\n",
       "14847          unknown\n",
       "14848          unknown\n",
       "14849          unknown\n",
       "Name: water_per_person_binned, Length: 74250, dtype: category\n",
       "Categories (5, object): [(1e-12, 0.19], (0.19, 0.39], (0.59, 0.79], (0.79, 1.0], unknown]"
      ]
     },
     "execution_count": 569,
     "metadata": {},
     "output_type": "execute_result"
    }
   ],
   "source": [
    "data[\"water_per_person_binned\"]"
   ]
  },
  {
   "cell_type": "markdown",
   "metadata": {},
   "source": [
    "# Splitting the dataset to remove outlier from train data set\n"
   ]
  },
  {
   "cell_type": "code",
   "execution_count": 570,
   "metadata": {},
   "outputs": [],
   "source": [
    "train = data.iloc[0:59399]\n",
    "test = data.iloc[59400:74250]"
   ]
  },
  {
   "cell_type": "markdown",
   "metadata": {},
   "source": [
    "## Deleting Outliers"
   ]
  },
  {
   "cell_type": "markdown",
   "metadata": {},
   "source": [
    "### Population"
   ]
  },
  {
   "cell_type": "code",
   "execution_count": 571,
   "metadata": {},
   "outputs": [],
   "source": [
    "train[\"status_group\"] = train_labels[\"status_group\"]"
   ]
  },
  {
   "cell_type": "code",
   "execution_count": 572,
   "metadata": {},
   "outputs": [
    {
     "data": {
      "text/plain": [
       "<matplotlib.collections.PathCollection at 0x1c4006fcf8>"
      ]
     },
     "execution_count": 572,
     "metadata": {},
     "output_type": "execute_result"
    },
    {
     "data": {
      "image/png": "[encoded data removed]",
      "text/plain": [
       "<Figure size 432x288 with 1 Axes>"
      ]
     },
     "metadata": {
      "needs_background": "light"
     },
     "output_type": "display_data"
    }
   ],
   "source": [
    "matplotlib.pyplot.scatter(train[\"id\"], train[\"population\"])"
   ]
  },
  {
   "cell_type": "code",
   "execution_count": 573,
   "metadata": {},
   "outputs": [
    {
     "data": {
      "text/plain": [
       "id                          482\n",
       "amount_tsh                  482\n",
       "date_recorded               482\n",
       "funder                      482\n",
       "gps_height                  482\n",
       "installer                   482\n",
       "longitude                   482\n",
       "latitude                    482\n",
       "wpt_name                    482\n",
       "basin                       482\n",
       "subvillage                  482\n",
       "region                      482\n",
       "region_code                 482\n",
       "district_code               482\n",
       "lga                         482\n",
       "ward                        482\n",
       "population                  482\n",
       "public_meeting              482\n",
       "scheme_management           482\n",
       "permit                      482\n",
       "construction_year           482\n",
       "extraction_type             482\n",
       "extraction_type_group       482\n",
       "extraction_type_class       482\n",
       "management                  482\n",
       "management_group            482\n",
       "payment                     482\n",
       "water_quality               482\n",
       "quality_group               482\n",
       "quantity                    482\n",
       "source                      482\n",
       "source_type                 482\n",
       "source_class                482\n",
       "waterpoint_type             482\n",
       "waterpoint_type_group       482\n",
       "date_recorded_month         482\n",
       "season                      482\n",
       "rain_dry                    482\n",
       "date_recorded_year          482\n",
       "age                         482\n",
       "water_per_person            482\n",
       "lake_river_other            482\n",
       "rural_urban                 482\n",
       "school                      482\n",
       "flood_risk                  482\n",
       "amount_tsh_scaled           482\n",
       "amount_tsh_binned           482\n",
       "population_scaled           482\n",
       "population_binned           482\n",
       "gps_height_scaled           482\n",
       "gps_height_binned           482\n",
       "age_clipped                 482\n",
       "age_clipped_scaled          482\n",
       "age_clipped_binned          482\n",
       "construction_year_binned    482\n",
       "water_per_person_scaled     482\n",
       "water_per_person_binned     482\n",
       "status_group                482\n",
       "dtype: int64"
      ]
     },
     "execution_count": 573,
     "metadata": {},
     "output_type": "execute_result"
    }
   ],
   "source": [
    "train.loc[train[\"population\"] > 2000].count()"
   ]
  },
  {
   "cell_type": "code",
   "execution_count": 574,
   "metadata": {},
   "outputs": [],
   "source": [
    "train = train[train[\"population\"] < 2000]"
   ]
  },
  {
   "cell_type": "code",
   "execution_count": 575,
   "metadata": {},
   "outputs": [
    {
     "data": {
      "text/plain": [
       "<matplotlib.collections.PathCollection at 0x1c3a7a75f8>"
      ]
     },
     "execution_count": 575,
     "metadata": {},
     "output_type": "execute_result"
    },
    {
     "data": {
      "image/png": "[encoded data removed]",
      "text/plain": [
       "<Figure size 432x288 with 1 Axes>"
      ]
     },
     "metadata": {
      "needs_background": "light"
     },
     "output_type": "display_data"
    }
   ],
   "source": [
    "#double-checking the distribution after removing outliers\n",
    "matplotlib.pyplot.scatter(train[\"id\"], train[\"population\"])"
   ]
  },
  {
   "cell_type": "markdown",
   "metadata": {},
   "source": [
    "### Amount_tsh"
   ]
  },
  {
   "cell_type": "code",
   "execution_count": 576,
   "metadata": {},
   "outputs": [
    {
     "data": {
      "text/plain": [
       "<matplotlib.collections.PathCollection at 0x1c54bd6438>"
      ]
     },
     "execution_count": 576,
     "metadata": {},
     "output_type": "execute_result"
    },
    {
     "data": {
      "image/png": "[encoded data removed]",
      "text/plain": [
       "<Figure size 432x288 with 1 Axes>"
      ]
     },
     "metadata": {
      "needs_background": "light"
     },
     "output_type": "display_data"
    }
   ],
   "source": [
    "matplotlib.pyplot.scatter(train[\"id\"], train[\"amount_tsh\"])"
   ]
  },
  {
   "cell_type": "code",
   "execution_count": 577,
   "metadata": {
    "scrolled": true
   },
   "outputs": [
    {
     "data": {
      "text/plain": [
       "id                          467\n",
       "amount_tsh                  467\n",
       "date_recorded               467\n",
       "funder                      467\n",
       "gps_height                  467\n",
       "installer                   467\n",
       "longitude                   467\n",
       "latitude                    467\n",
       "wpt_name                    467\n",
       "basin                       467\n",
       "subvillage                  467\n",
       "region                      467\n",
       "region_code                 467\n",
       "district_code               467\n",
       "lga                         467\n",
       "ward                        467\n",
       "population                  467\n",
       "public_meeting              467\n",
       "scheme_management           467\n",
       "permit                      467\n",
       "construction_year           467\n",
       "extraction_type             467\n",
       "extraction_type_group       467\n",
       "extraction_type_class       467\n",
       "management                  467\n",
       "management_group            467\n",
       "payment                     467\n",
       "water_quality               467\n",
       "quality_group               467\n",
       "quantity                    467\n",
       "source                      467\n",
       "source_type                 467\n",
       "source_class                467\n",
       "waterpoint_type             467\n",
       "waterpoint_type_group       467\n",
       "date_recorded_month         467\n",
       "season                      467\n",
       "rain_dry                    467\n",
       "date_recorded_year          467\n",
       "age                         467\n",
       "water_per_person            467\n",
       "lake_river_other            467\n",
       "rural_urban                 467\n",
       "school                      467\n",
       "flood_risk                  467\n",
       "amount_tsh_scaled           467\n",
       "amount_tsh_binned           467\n",
       "population_scaled           467\n",
       "population_binned           467\n",
       "gps_height_scaled           467\n",
       "gps_height_binned           467\n",
       "age_clipped                 467\n",
       "age_clipped_scaled          467\n",
       "age_clipped_binned          467\n",
       "construction_year_binned    467\n",
       "water_per_person_scaled     467\n",
       "water_per_person_binned     467\n",
       "status_group                467\n",
       "dtype: int64"
      ]
     },
     "execution_count": 577,
     "metadata": {},
     "output_type": "execute_result"
    }
   ],
   "source": [
    "train.loc[train[\"amount_tsh\"] > 5000].count()"
   ]
  },
  {
   "cell_type": "code",
   "execution_count": 578,
   "metadata": {},
   "outputs": [],
   "source": [
    "train = train[train[\"amount_tsh\"] < 5000]"
   ]
  },
  {
   "cell_type": "code",
   "execution_count": 579,
   "metadata": {
    "scrolled": true
   },
   "outputs": [
    {
     "data": {
      "text/plain": [
       "<matplotlib.collections.PathCollection at 0x1c338c91d0>"
      ]
     },
     "execution_count": 579,
     "metadata": {},
     "output_type": "execute_result"
    },
    {
     "data": {
      "image/png": "[encoded data removed]",
      "text/plain": [
       "<Figure size 432x288 with 1 Axes>"
      ]
     },
     "metadata": {
      "needs_background": "light"
     },
     "output_type": "display_data"
    }
   ],
   "source": [
    "#double-checking the distribution after removing outliers\n",
    "matplotlib.pyplot.scatter(train[\"id\"], train[\"amount_tsh\"])"
   ]
  },
  {
   "cell_type": "code",
   "execution_count": 580,
   "metadata": {},
   "outputs": [
    {
     "data": {
      "text/plain": [
       "(57874, 58)"
      ]
     },
     "execution_count": 580,
     "metadata": {},
     "output_type": "execute_result"
    }
   ],
   "source": [
    "train.shape"
   ]
  },
  {
   "cell_type": "code",
   "execution_count": 597,
   "metadata": {},
   "outputs": [],
   "source": [
    "data = train.append(test)"
   ]
  },
  {
   "cell_type": "code",
   "execution_count": 598,
   "metadata": {},
   "outputs": [],
   "source": [
    "data['gps_height_binned'] = data['gps_height_binned'].replace(np.nan, '(0.19, 0.39]')"
   ]
  },
  {
   "cell_type": "code",
   "execution_count": 599,
   "metadata": {},
   "outputs": [
    {
     "name": "stdout",
     "output_type": "stream",
     "text": [
      "<class 'pandas.core.frame.DataFrame'>\n",
      "Int64Index: 72724 entries, 1 to 14849\n",
      "Data columns (total 58 columns):\n",
      "age                         72724 non-null int64\n",
      "age_clipped                 72724 non-null float64\n",
      "age_clipped_binned          72724 non-null category\n",
      "age_clipped_scaled          72724 non-null float64\n",
      "amount_tsh                  72724 non-null float64\n",
      "amount_tsh_binned           72724 non-null category\n",
      "amount_tsh_scaled           72724 non-null float64\n",
      "basin                       72724 non-null object\n",
      "construction_year           72724 non-null int64\n",
      "construction_year_binned    72724 non-null category\n",
      "date_recorded               72724 non-null datetime64[ns]\n",
      "date_recorded_month         72724 non-null int64\n",
      "date_recorded_year          72724 non-null int64\n",
      "district_code               72724 non-null category\n",
      "extraction_type             72724 non-null object\n",
      "extraction_type_class       72724 non-null object\n",
      "extraction_type_group       72724 non-null object\n",
      "flood_risk                  72724 non-null object\n",
      "funder                      72724 non-null object\n",
      "gps_height                  72724 non-null float64\n",
      "gps_height_binned           72724 non-null object\n",
      "gps_height_scaled           72724 non-null float64\n",
      "id                          72724 non-null int64\n",
      "installer                   72724 non-null object\n",
      "lake_river_other            72724 non-null object\n",
      "latitude                    72724 non-null float64\n",
      "lga                         72724 non-null object\n",
      "longitude                   72724 non-null float64\n",
      "management                  72724 non-null object\n",
      "management_group            72724 non-null object\n",
      "payment                     72724 non-null object\n",
      "permit                      72724 non-null object\n",
      "population                  72724 non-null float64\n",
      "population_binned           72724 non-null category\n",
      "population_scaled           72724 non-null float64\n",
      "public_meeting              72724 non-null object\n",
      "quality_group               72724 non-null object\n",
      "quantity                    72724 non-null object\n",
      "rain_dry                    72724 non-null object\n",
      "region                      72724 non-null object\n",
      "region_code                 72724 non-null category\n",
      "rural_urban                 72724 non-null object\n",
      "scheme_management           72724 non-null object\n",
      "school                      72724 non-null object\n",
      "season                      72724 non-null object\n",
      "source                      72724 non-null object\n",
      "source_class                72724 non-null object\n",
      "source_type                 72724 non-null object\n",
      "status_group                57874 non-null object\n",
      "subvillage                  72254 non-null object\n",
      "ward                        72724 non-null object\n",
      "water_per_person            72724 non-null float64\n",
      "water_per_person_binned     72724 non-null category\n",
      "water_per_person_scaled     72724 non-null float64\n",
      "water_quality               72724 non-null object\n",
      "waterpoint_type             72724 non-null object\n",
      "waterpoint_type_group       72724 non-null object\n",
      "wpt_name                    72724 non-null object\n",
      "dtypes: category(7), datetime64[ns](1), float64(12), int64(5), object(33)\n",
      "memory usage: 29.3+ MB\n"
     ]
    }
   ],
   "source": [
    "data.info()"
   ]
  },
  {
   "cell_type": "code",
   "execution_count": 600,
   "metadata": {},
   "outputs": [],
   "source": [
    "#hour = hour.drop(columns = ['hr2','season2', 'temp2', 'hum2', 'weekday2'])\n",
    "data = data.drop(columns = ['subvillage','construction_year','wpt_name','lga','management','status_group','date_recorded'])"
   ]
  },
  {
   "cell_type": "code",
   "execution_count": 601,
   "metadata": {},
   "outputs": [],
   "source": [
    "data_dummy = pd.get_dummies(data)"
   ]
  },
  {
   "cell_type": "code",
   "execution_count": 586,
   "metadata": {
    "scrolled": true
   },
   "outputs": [
    {
     "name": "stdout",
     "output_type": "stream",
     "text": [
      "<class 'pandas.core.frame.DataFrame'>\n",
      "Int64Index: 72724 entries, 1 to 14849\n",
      "Columns: 2378 entries, age to waterpoint_type_group_other\n",
      "dtypes: datetime64[ns](1), float64(12), int64(4), uint8(2361)\n",
      "memory usage: 173.7 MB\n"
     ]
    }
   ],
   "source": [
    "data_dummy.info()"
   ]
  },
  {
   "cell_type": "markdown",
   "metadata": {},
   "source": [
    "# finally start with machine learning"
   ]
  },
  {
   "cell_type": "code",
   "execution_count": 587,
   "metadata": {},
   "outputs": [
    {
     "data": {
      "text/html": [
       "<div>\n",
       "<style scoped>\n",
       "    .dataframe tbody tr th:only-of-type {\n",
       "        vertical-align: middle;\n",
       "    }\n",
       "\n",
       "    .dataframe tbody tr th {\n",
       "        vertical-align: top;\n",
       "    }\n",
       "\n",
       "    .dataframe thead th {\n",
       "        text-align: right;\n",
       "    }\n",
       "</style>\n",
       "<table border=\"1\" class=\"dataframe\">\n",
       "  <thead>\n",
       "    <tr style=\"text-align: right;\">\n",
       "      <th></th>\n",
       "      <th>id</th>\n",
       "      <th>amount_tsh</th>\n",
       "      <th>date_recorded</th>\n",
       "      <th>funder</th>\n",
       "      <th>gps_height</th>\n",
       "      <th>installer</th>\n",
       "      <th>longitude</th>\n",
       "      <th>latitude</th>\n",
       "      <th>wpt_name</th>\n",
       "      <th>basin</th>\n",
       "      <th>...</th>\n",
       "      <th>population_binned</th>\n",
       "      <th>gps_height_scaled</th>\n",
       "      <th>gps_height_binned</th>\n",
       "      <th>age_clipped</th>\n",
       "      <th>age_clipped_scaled</th>\n",
       "      <th>age_clipped_binned</th>\n",
       "      <th>construction_year_binned</th>\n",
       "      <th>water_per_person_scaled</th>\n",
       "      <th>water_per_person_binned</th>\n",
       "      <th>status_group</th>\n",
       "    </tr>\n",
       "  </thead>\n",
       "  <tbody>\n",
       "    <tr>\n",
       "      <th>1</th>\n",
       "      <td>8776</td>\n",
       "      <td>0.0</td>\n",
       "      <td>2013-03-06</td>\n",
       "      <td>other</td>\n",
       "      <td>1399.000000</td>\n",
       "      <td>other</td>\n",
       "      <td>34.698766</td>\n",
       "      <td>-2.147466</td>\n",
       "      <td>zahanati</td>\n",
       "      <td>Lake Victoria</td>\n",
       "      <td>...</td>\n",
       "      <td>(1e-12, 0.19]</td>\n",
       "      <td>0.520629</td>\n",
       "      <td>(0.39, 0.59]</td>\n",
       "      <td>3.0</td>\n",
       "      <td>0.056604</td>\n",
       "      <td>(1e-12, 0.19]</td>\n",
       "      <td>(2000.0, 2010.0]</td>\n",
       "      <td>0.000000</td>\n",
       "      <td>unknown</td>\n",
       "      <td>functional</td>\n",
       "    </tr>\n",
       "    <tr>\n",
       "      <th>2</th>\n",
       "      <td>34310</td>\n",
       "      <td>25.0</td>\n",
       "      <td>2013-02-25</td>\n",
       "      <td>other</td>\n",
       "      <td>686.000000</td>\n",
       "      <td>other</td>\n",
       "      <td>37.460664</td>\n",
       "      <td>-3.821329</td>\n",
       "      <td>kwa mahundi</td>\n",
       "      <td>Pangani</td>\n",
       "      <td>...</td>\n",
       "      <td>(1e-12, 0.19]</td>\n",
       "      <td>0.271329</td>\n",
       "      <td>(0.19, 0.39]</td>\n",
       "      <td>4.0</td>\n",
       "      <td>0.075472</td>\n",
       "      <td>(1e-12, 0.19]</td>\n",
       "      <td>(2000.0, 2010.0]</td>\n",
       "      <td>0.000003</td>\n",
       "      <td>(1e-12, 0.19]</td>\n",
       "      <td>functional</td>\n",
       "    </tr>\n",
       "    <tr>\n",
       "      <th>3</th>\n",
       "      <td>67743</td>\n",
       "      <td>0.0</td>\n",
       "      <td>2013-01-28</td>\n",
       "      <td>unicef</td>\n",
       "      <td>263.000000</td>\n",
       "      <td>other</td>\n",
       "      <td>38.486161</td>\n",
       "      <td>-11.155298</td>\n",
       "      <td>zahanati ya nanyumbu</td>\n",
       "      <td>Ruvuma / Southern Coast</td>\n",
       "      <td>...</td>\n",
       "      <td>(1e-12, 0.19]</td>\n",
       "      <td>0.123427</td>\n",
       "      <td>(0.0, 0.19]</td>\n",
       "      <td>27.0</td>\n",
       "      <td>0.509434</td>\n",
       "      <td>(0.39, 0.59]</td>\n",
       "      <td>(1980.0, 1990.0]</td>\n",
       "      <td>0.000000</td>\n",
       "      <td>unknown</td>\n",
       "      <td>non functional</td>\n",
       "    </tr>\n",
       "    <tr>\n",
       "      <th>4</th>\n",
       "      <td>19728</td>\n",
       "      <td>0.0</td>\n",
       "      <td>2011-07-13</td>\n",
       "      <td>other</td>\n",
       "      <td>1300.000000</td>\n",
       "      <td>other</td>\n",
       "      <td>31.130847</td>\n",
       "      <td>-1.825359</td>\n",
       "      <td>shuleni</td>\n",
       "      <td>Lake Victoria</td>\n",
       "      <td>...</td>\n",
       "      <td>(1e-12, 0.19]</td>\n",
       "      <td>0.486014</td>\n",
       "      <td>(0.39, 0.59]</td>\n",
       "      <td>0.0</td>\n",
       "      <td>0.000000</td>\n",
       "      <td>unknown</td>\n",
       "      <td>unknown</td>\n",
       "      <td>0.000000</td>\n",
       "      <td>unknown</td>\n",
       "      <td>functional</td>\n",
       "    </tr>\n",
       "    <tr>\n",
       "      <th>5</th>\n",
       "      <td>9944</td>\n",
       "      <td>20.0</td>\n",
       "      <td>2011-03-13</td>\n",
       "      <td>other</td>\n",
       "      <td>961.744219</td>\n",
       "      <td>dwe</td>\n",
       "      <td>39.172796</td>\n",
       "      <td>-4.765587</td>\n",
       "      <td>tajiri</td>\n",
       "      <td>Pangani</td>\n",
       "      <td>...</td>\n",
       "      <td>pop=1</td>\n",
       "      <td>0.367743</td>\n",
       "      <td>(0.19, 0.39]</td>\n",
       "      <td>2.0</td>\n",
       "      <td>0.037736</td>\n",
       "      <td>(1e-12, 0.19]</td>\n",
       "      <td>(2000.0, 2010.0]</td>\n",
       "      <td>0.000500</td>\n",
       "      <td>(1e-12, 0.19]</td>\n",
       "      <td>functional</td>\n",
       "    </tr>\n",
       "  </tbody>\n",
       "</table>\n",
       "<p>5 rows × 58 columns</p>\n",
       "</div>"
      ],
      "text/plain": [
       "      id  amount_tsh date_recorded  funder   gps_height installer  longitude  \\\n",
       "1   8776         0.0    2013-03-06   other  1399.000000     other  34.698766   \n",
       "2  34310        25.0    2013-02-25   other   686.000000     other  37.460664   \n",
       "3  67743         0.0    2013-01-28  unicef   263.000000     other  38.486161   \n",
       "4  19728         0.0    2011-07-13   other  1300.000000     other  31.130847   \n",
       "5   9944        20.0    2011-03-13   other   961.744219       dwe  39.172796   \n",
       "\n",
       "    latitude              wpt_name                    basin  ...  \\\n",
       "1  -2.147466              zahanati            Lake Victoria  ...   \n",
       "2  -3.821329           kwa mahundi                  Pangani  ...   \n",
       "3 -11.155298  zahanati ya nanyumbu  Ruvuma / Southern Coast  ...   \n",
       "4  -1.825359               shuleni            Lake Victoria  ...   \n",
       "5  -4.765587                tajiri                  Pangani  ...   \n",
       "\n",
       "  population_binned gps_height_scaled gps_height_binned age_clipped  \\\n",
       "1     (1e-12, 0.19]          0.520629      (0.39, 0.59]         3.0   \n",
       "2     (1e-12, 0.19]          0.271329      (0.19, 0.39]         4.0   \n",
       "3     (1e-12, 0.19]          0.123427       (0.0, 0.19]        27.0   \n",
       "4     (1e-12, 0.19]          0.486014      (0.39, 0.59]         0.0   \n",
       "5             pop=1          0.367743      (0.19, 0.39]         2.0   \n",
       "\n",
       "  age_clipped_scaled age_clipped_binned  construction_year_binned  \\\n",
       "1           0.056604      (1e-12, 0.19]          (2000.0, 2010.0]   \n",
       "2           0.075472      (1e-12, 0.19]          (2000.0, 2010.0]   \n",
       "3           0.509434       (0.39, 0.59]          (1980.0, 1990.0]   \n",
       "4           0.000000            unknown                   unknown   \n",
       "5           0.037736      (1e-12, 0.19]          (2000.0, 2010.0]   \n",
       "\n",
       "  water_per_person_scaled water_per_person_binned    status_group  \n",
       "1                0.000000                 unknown      functional  \n",
       "2                0.000003           (1e-12, 0.19]      functional  \n",
       "3                0.000000                 unknown  non functional  \n",
       "4                0.000000                 unknown      functional  \n",
       "5                0.000500           (1e-12, 0.19]      functional  \n",
       "\n",
       "[5 rows x 58 columns]"
      ]
     },
     "execution_count": 587,
     "metadata": {},
     "output_type": "execute_result"
    }
   ],
   "source": [
    "train.head()"
   ]
  },
  {
   "cell_type": "markdown",
   "metadata": {},
   "source": [
    "## Split train - test"
   ]
  },
  {
   "cell_type": "code",
   "execution_count": 602,
   "metadata": {},
   "outputs": [],
   "source": [
    "train_x = data_dummy.iloc[0:57874]\n",
    "train_y = train['status_group']\n",
    "test_x = data_dummy.iloc[57874:72724]\n"
   ]
  },
  {
   "cell_type": "markdown",
   "metadata": {},
   "source": [
    "## Decison Trees"
   ]
  },
  {
   "cell_type": "code",
   "execution_count": 624,
   "metadata": {},
   "outputs": [],
   "source": [
    "# Split dataset into training set and test set\n",
    "X_train, X_test, y_train, y_test = train_test_split(X, y, test_size=0.3, random_state=1) # 70% training and 30% test\n",
    "\n",
    "tree = DecisionTreeClassifier()\n",
    "\n",
    "\n",
    "tree.fit(X_train, y_train)\n",
    "\n",
    "X = train_x\n",
    "y = test_x # Target variable\n",
    "\n",
    "#Predict the response for test dataset\n",
    "#y_pred = tree.predict(X)\n",
    "\n"
   ]
  },
  {
   "cell_type": "code",
   "execution_count": 625,
   "metadata": {},
   "outputs": [],
   "source": [
    "y_pred = tree.predict(test_x)\n",
    "\n",
    "ansdic = {'id':test_x['id'],'status_group':y_pred}\n",
    "ans = pd.DataFrame(ansdic)\n",
    "\n",
    "ans.head()\n",
    "\n",
    "ans.to_csv(\"tanzania_baseline_decision_trees_preds.csv\",index=False)\n",
    "## score recorded online was 0.64666 "
   ]
  },
  {
   "cell_type": "markdown",
   "metadata": {},
   "source": [
    "## Random Forest"
   ]
  },
  {
   "cell_type": "code",
   "execution_count": 641,
   "metadata": {},
   "outputs": [],
   "source": [
    "#X_train, X_test, y_train, y_test = train_test_split(X, y, test_size=0.3, random_state=1) # 70% training and 30% test\n",
    "\n",
    "rf = RandomForestClassifier()\n",
    "rf.fit(X_train, y_train)\n",
    "X = train_x\n",
    "y = test_x # Target variable\n",
    "\n",
    "#Predict the response for test dataset\n",
    "#y_pred = tree.predict(X)"
   ]
  },
  {
   "cell_type": "code",
   "execution_count": 642,
   "metadata": {},
   "outputs": [],
   "source": [
    "y_pred = rf.predict(test_x)\n",
    "\n",
    "ansdic = {'id':test_x['id'],'status_group':y_pred}\n",
    "ans = pd.DataFrame(ansdic)\n",
    "\n",
    "ans.head()\n",
    "\n",
    "ans.to_csv(\"tanzania_baseline_random_forest_preds.csv\",index=False)"
   ]
  },
  {
   "cell_type": "markdown",
   "metadata": {},
   "source": [
    "### Creating a randomized search"
   ]
  },
  {
   "cell_type": "code",
   "execution_count": 629,
   "metadata": {},
   "outputs": [],
   "source": [
    "from scipy.stats import randint as sp_randint"
   ]
  },
  {
   "cell_type": "code",
   "execution_count": 630,
   "metadata": {},
   "outputs": [],
   "source": [
    "# specify parameters and distributions to sample from\n",
    "param_dist = {\"max_depth\": [3, None],\n",
    "              \"max_features\": sp_randint(1, 11),\n",
    "              \"min_samples_split\": sp_randint(2, 11),\n",
    "              \"bootstrap\": [True, False],\n",
    "              \"criterion\": [\"gini\", \"entropy\"]}\n",
    "\n",
    "# run randomized search\n",
    "n_iter_search = 20\n",
    "random_search = RandomizedSearchCV(, param_distributions=param_dist,\n",
    "                                   n_iter=n_iter_search, cv=5, iid=False)"
   ]
  },
  {
   "cell_type": "code",
   "execution_count": null,
   "metadata": {},
   "outputs": [],
   "source": [
    "random_search.fit(X_train, y_train)\n",
    "\n",
    "y_pred = tree.predict(test_x)\n",
    "\n",
    "ansdic = {'id':test_x['id'],'status_group':y_pred}\n",
    "ans = pd.DataFrame(ansdic)\n",
    "\n",
    "ans.head()\n",
    "\n",
    "ans.to_csv(\"tanzania_random_forest.csv\",index=False)\n",
    "## score recorded online was 0.64666 "
   ]
  },
  {
   "cell_type": "code",
   "execution_count": 632,
   "metadata": {},
   "outputs": [],
   "source": []
  },
  {
   "cell_type": "code",
   "execution_count": 639,
   "metadata": {},
   "outputs": [
    {
     "name": "stdout",
     "output_type": "stream",
     "text": [
      "Fitting 3 folds for each of 10 candidates, totalling 30 fits\n"
     ]
    },
    {
     "name": "stderr",
     "output_type": "stream",
     "text": [
      "[Parallel(n_jobs=4)]: Using backend LokyBackend with 4 concurrent workers.\n",
      "[Parallel(n_jobs=4)]: Done   5 tasks      | elapsed:  5.5min\n",
      "[Parallel(n_jobs=4)]: Done  10 tasks      | elapsed:  8.1min\n",
      "[Parallel(n_jobs=4)]: Done  17 tasks      | elapsed:  9.8min\n",
      "[Parallel(n_jobs=4)]: Done  27 out of  30 | elapsed: 10.9min remaining:  1.2min\n",
      "[Parallel(n_jobs=4)]: Done  30 out of  30 | elapsed: 11.7min finished\n"
     ]
    },
    {
     "data": {
      "text/plain": [
       "RandomizedSearchCV(cv=3, error_score='raise-deprecating',\n",
       "                   estimator=RandomForestClassifier(bootstrap=True,\n",
       "                                                    class_weight=None,\n",
       "                                                    criterion='gini',\n",
       "                                                    max_depth=None,\n",
       "                                                    max_features='auto',\n",
       "                                                    max_leaf_nodes=None,\n",
       "                                                    min_impurity_decrease=0.0,\n",
       "                                                    min_impurity_split=None,\n",
       "                                                    min_samples_leaf=1,\n",
       "                                                    min_samples_split=2,\n",
       "                                                    min_weight_fraction_leaf=0.0,\n",
       "                                                    n_estimators=10,\n",
       "                                                    n_jobs=None,\n",
       "                                                    oob_score=...\n",
       "                   param_distributions={'max_features': <scipy.stats._distn_infrastructure.rv_frozen object at 0x1c369da1d0>,\n",
       "                                        'min_samples_split': <scipy.stats._distn_infrastructure.rv_frozen object at 0x1c369da5c0>,\n",
       "                                        'n_estimators': <scipy.stats._distn_infrastructure.rv_frozen object at 0x1c369da198>},\n",
       "                   pre_dispatch='2*n_jobs', random_state=None, refit=True,\n",
       "                   return_train_score=False, scoring=None, verbose=10)"
      ]
     },
     "execution_count": 639,
     "metadata": {},
     "output_type": "execute_result"
    }
   ],
   "source": [
    "# specify parameters and distributions to sample from\n",
    "param_dist = {\n",
    "    # randomly sample numbers from 4 to 204 estimators\n",
    "    'n_estimators': randint(4,200),\n",
    "    # normally distributed max_features, with mean .25 stddev 0.1, bounded between 0 and 1\n",
    "    'max_features': truncnorm(a=0, b=1, loc=0.25, scale=0.1),\n",
    "    # uniform distribution from 0.01 to 0.2 (0.01 + 0.199)\n",
    "    'min_samples_split': uniform(0.01, 0.199)\n",
    "}\n",
    "\n",
    "# run randomized search\n",
    "n_iter_search = 10\n",
    "random_search = RandomizedSearchCV(rf, param_distributions=param_dist,\n",
    "                                   n_iter=n_iter_search, cv=3,verbose=10,\n",
    "    n_jobs=4, iid=False)\n",
    "\n",
    "random_search.fit(X_train, y_train)"
   ]
  },
  {
   "cell_type": "code",
   "execution_count": 640,
   "metadata": {},
   "outputs": [],
   "source": [
    "y_pred = random_search.predict(test_x)\n",
    "\n",
    "ansdic = {'id':test_x['id'],'status_group':y_pred}\n",
    "ans = pd.DataFrame(ansdic)\n",
    "\n",
    "ans.head()\n",
    "\n",
    "ans.to_csv(\"tanzania_random_forest_tuned.csv\",index=False)\n"
   ]
  },
  {
   "cell_type": "markdown",
   "metadata": {},
   "source": [
    "## Random Forest with the best obtained score"
   ]
  },
  {
   "cell_type": "code",
   "execution_count": null,
   "metadata": {},
   "outputs": [],
   "source": [
    "X = train_x\n",
    "y = train_y\n",
    " \n",
    "    \n",
    "# Creating a training and testing subset\n",
    "X_train, X_test, y_train, y_test = train_test_split(X, y, \n",
    "                                                    test_size=0.20, \n",
    "                                                    random_state=4852347)\n",
    "        \n",
    "# Defining the Random Forest model that will be used in production\n",
    "clf = RandomForestClassifier(bootstrap=True, class_weight=None, criterion='gini',\n",
    "        max_depth=None, max_features='auto', max_leaf_nodes=None,\n",
    "        min_impurity_decrease=0.0, min_impurity_split=None,\n",
    "        min_samples_leaf=1, min_samples_split=2,\n",
    "        min_weight_fraction_leaf=0.0, n_estimators=100, n_jobs=4,\n",
    "        oob_score=False, random_state=4852347, verbose=10,\n",
    "        warm_start=False)        \n",
    "# Cross Validation \n",
    "# one run of the model\n",
    "scores = cross_val_score(clf, \n",
    "                        X_train, y_train, \n",
    "                        scoring='accuracy', cv=5)\n",
    "    \n",
    "print('Mean training score RF with CV: {:.4f}, standard deviation: {:.4f} '.format(np.mean(scores), np.std(scores)), \n",
    "              end='')\n",
    "    \n",
    "clf.fit(X_train, y_train)\n",
    "print('\\nRF Model score in holdout: {:.4f}'.format(clf.score(X_test, y_test)))\n",
    "\n",
    "y_pred = clf.predict(test_x)\n",
    "\n",
    "ansdic = {'id':test_x['id'],'status_group':y_pred}\n",
    "ans = pd.DataFrame(ansdic)\n",
    "\n",
    "ans.head()\n",
    "\n",
    "ans.to_csv(\"tanzania_baseline2_preds.csv\",index=False)\n",
    "\n"
   ]
  },
  {
   "cell_type": "code",
   "execution_count": null,
   "metadata": {},
   "outputs": [],
   "source": [
    "X_train, X_test, y_train, y_test = train_test_split(X, y, test_size=0.3, random_state=1) # 70% training and 30% test\n",
    "\n",
    "rf = RandomForestClassifier()\n",
    "parameters = {'max_depth':range(1,40)}\n",
    "\n",
    "\n",
    "rf.fit(X_train, y_train)\n",
    "\n",
    "X = train_x\n",
    "y = test_x # Target variable\n",
    "\n",
    "#Predict the response for test dataset\n",
    "#y_pred = tree.predict(X)"
   ]
  }
 ],
 "metadata": {
  "kernelspec": {
   "display_name": "Python 3",
   "language": "python",
   "name": "python3"
  },
  "language_info": {
   "codemirror_mode": {
    "name": "ipython",
    "version": 3
   },
   "file_extension": ".py",
   "mimetype": "text/x-python",
   "name": "python",
   "nbconvert_exporter": "python",
   "pygments_lexer": "ipython3",
   "version": "3.7.3"
  }
 },
 "nbformat": 4,
 "nbformat_minor": 4
}
